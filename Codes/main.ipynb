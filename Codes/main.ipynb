{
 "metadata": {
  "language_info": {
   "codemirror_mode": {
    "name": "ipython",
    "version": 3
   },
   "file_extension": ".py",
   "mimetype": "text/x-python",
   "name": "python",
   "nbconvert_exporter": "python",
   "pygments_lexer": "ipython3",
   "version": "3.7.9-final"
  },
  "orig_nbformat": 2,
  "kernelspec": {
   "name": "Python 3.7.9 64-bit ('nn': conda)",
   "display_name": "Python 3.7.9 64-bit ('nn': conda)",
   "metadata": {
    "interpreter": {
     "hash": "9616ec0cf0e0dd041cba3c8886d471a5cc72bbf20e2c795f4079199200777fdd"
    }
   }
  }
 },
 "nbformat": 4,
 "nbformat_minor": 2,
 "cells": [
  {
   "cell_type": "code",
   "execution_count": 8,
   "metadata": {},
   "outputs": [],
   "source": [
    "import torch\n",
    "import torch.nn as nn\n",
    "import torch.optim as optim\n",
    "from torchtext.vocab import GloVe\n",
    "from utils.preprocess import MINDIterator\n",
    "from utils.utils import getVocab,getLoss,getLabel,constructBasicDict\n",
    "from utils.utils import run_eval\n",
    "from torchtext.data.utils import get_tokenizer\n",
    "from torchtext.data import Dataset\n",
    "from torchtext.vocab import build_vocab_from_iterator"
   ]
  },
  {
   "cell_type": "code",
   "execution_count": 4,
   "metadata": {},
   "outputs": [],
   "source": [
    "conv = nn.Conv1d(kernel_size=3,in_channels=2,out_channels=2,dilation=1,padding=1)\n",
    "a = torch.zeros((1,2,5))\n",
    "a_ = torch.zeros((1,2,5))\n",
    "a = torch.cat([a,a_],dim=2)"
   ]
  },
  {
   "cell_type": "code",
   "execution_count": 42,
   "metadata": {},
   "outputs": [
    {
     "output_type": "execute_result",
     "data": {
      "text/plain": [
       "[0, 1, 2, 0, 0]"
      ]
     },
     "metadata": {},
     "execution_count": 42
    }
   ],
   "source": [
    "a = [0,1,2]\n",
    "a[:5] + [0] * (5-len(a))"
   ]
  },
  {
   "cell_type": "code",
   "execution_count": 28,
   "metadata": {},
   "outputs": [
    {
     "output_type": "execute_result",
     "data": {
      "text/plain": [
       "(tensor([[[1., 2.],\n",
       "          [6., 3.]],\n",
       " \n",
       "         [[3., 4.],\n",
       "          [4., 5.]]]),\n",
       " tensor([[[-1.0000,  1.0000],\n",
       "          [ 1.0000, -1.0000]],\n",
       " \n",
       "         [[-1.0000,  1.0000],\n",
       "          [-1.0000,  1.0000]]], grad_fn=<NativeLayerNormBackward>),\n",
       " tensor([[[-1.0690, -0.5345],\n",
       "          [ 1.6036,  0.0000]],\n",
       " \n",
       "         [[-1.4142,  0.0000],\n",
       "          [ 0.0000,  1.4142]]]))"
      ]
     },
     "metadata": {},
     "execution_count": 28
    }
   ],
   "source": [
    "input_ = torch.tensor([[[1,2],[6,3]],[[3,4],[4,5]]],dtype=torch.float)\n",
    "# With Learnable Parameters\n",
    "m1 = nn.LayerNorm(input_.size()[1])\n",
    "# Without Learnable Parameters\n",
    "m2 = nn.LayerNorm(input_.size()[1:], elementwise_affine=False)\n",
    "# Normalize over last two dimensions\n",
    "# m3 = nn.LayerNorm([2,2])\n",
    " # Normalize over last dimension of size 10\n",
    "# m4 = nn.LayerNorm(5)\n",
    "output1 = m1(input_)\n",
    "output2 = m2(input_)\n",
    "# output3 = m3(input_)\n",
    "# output4 = m4(input_)\n",
    "input_,output1,output2#,output3,output4"
   ]
  },
  {
   "cell_type": "code",
   "execution_count": 25,
   "metadata": {},
   "outputs": [
    {
     "output_type": "execute_result",
     "data": {
      "text/plain": [
       "torch.Size([2])"
      ]
     },
     "metadata": {},
     "execution_count": 25
    }
   ],
   "source": [
    "input_.size()[1:2]"
   ]
  },
  {
   "cell_type": "code",
   "execution_count": 1,
   "metadata": {},
   "outputs": [],
   "source": [
    "import pandas as pd\n",
    "\n",
    "news_file = r'D:\\Data\\NR_data\\dev\\news.tsv'\n",
    "\n",
    "news_df = pd.read_table(news_file,index_col=None,names=['newsID','category','subcategory','title','abstract','url','entity_title','entity_abstract'])"
   ]
  },
  {
   "cell_type": "code",
   "execution_count": 7,
   "metadata": {},
   "outputs": [
    {
     "output_type": "error",
     "ename": "NameError",
     "evalue": "name 'vocab' is not defined",
     "traceback": [
      "\u001b[1;31m---------------------------------------------------------------------------\u001b[0m",
      "\u001b[1;31mNameError\u001b[0m                                 Traceback (most recent call last)",
      "\u001b[1;32m<ipython-input-7-082e02e36103>\u001b[0m in \u001b[0;36m<module>\u001b[1;34m\u001b[0m\n\u001b[0;32m      1\u001b[0m \u001b[0mnews_df\u001b[0m\u001b[1;33m.\u001b[0m\u001b[0miloc\u001b[0m\u001b[1;33m[\u001b[0m\u001b[1;33m-\u001b[0m\u001b[1;36m1\u001b[0m\u001b[1;33m,\u001b[0m\u001b[1;33m:\u001b[0m\u001b[1;33m]\u001b[0m\u001b[1;33m\u001b[0m\u001b[1;33m\u001b[0m\u001b[0m\n\u001b[1;32m----> 2\u001b[1;33m \u001b[0mvocab\u001b[0m\u001b[1;33m[\u001b[0m\u001b[1;34m'autos'\u001b[0m\u001b[1;33m]\u001b[0m\u001b[1;33m\u001b[0m\u001b[1;33m\u001b[0m\u001b[0m\n\u001b[0m",
      "\u001b[1;31mNameError\u001b[0m: name 'vocab' is not defined"
     ]
    }
   ],
   "source": [
    "news_df.iloc[-1,:]\n",
    "vocab['autos']"
   ]
  },
  {
   "cell_type": "code",
   "execution_count": 16,
   "metadata": {},
   "outputs": [
    {
     "output_type": "error",
     "ename": "SyntaxError",
     "evalue": "'yield' outside function (<ipython-input-16-b9d96439f9e8>, line 12)",
     "traceback": [
      "\u001b[1;36m  File \u001b[1;32m\"<ipython-input-16-b9d96439f9e8>\"\u001b[1;36m, line \u001b[1;32m12\u001b[0m\n\u001b[1;33m    yield tokenizer(' '.join(content))\u001b[0m\n\u001b[1;37m    ^\u001b[0m\n\u001b[1;31mSyntaxError\u001b[0m\u001b[1;31m:\u001b[0m 'yield' outside function\n"
     ]
    }
   ],
   "source": [
    "count = 0\n",
    "a = []\n",
    "tokenizer = get_tokenizer('basic_english')\n",
    "news_iterator = news_df.iterrows()\n",
    "for _,i in news_iterator:\n",
    "    if count > 10:\n",
    "        break\n",
    "    content = []\n",
    "    for attr in ['title','category']:\n",
    "        content.append(i[attr])\n",
    "    count += 1\n",
    "    yield tokenizer(' '.join(content))"
   ]
  },
  {
   "cell_type": "code",
   "execution_count": 17,
   "metadata": {},
   "outputs": [
    {
     "output_type": "execute_result",
     "data": {
      "text/plain": [
       "array([list([1, 2]), list([1, 2, 3])], dtype=object)"
      ]
     },
     "metadata": {},
     "execution_count": 17
    }
   ],
   "source": [
    "import numpy as np\n",
    "np.array([[1,2],[1,2,3]])"
   ]
  },
  {
   "cell_type": "code",
   "execution_count": 18,
   "metadata": {},
   "outputs": [
    {
     "output_type": "execute_result",
     "data": {
      "text/plain": [
       "<function torchtext.data.utils._basic_english_normalize(line)>"
      ]
     },
     "metadata": {},
     "execution_count": 18
    }
   ],
   "source": [
    "tokenizer"
   ]
  },
  {
   "cell_type": "code",
   "execution_count": 31,
   "metadata": {},
   "outputs": [],
   "source": [
    "def news_token_generator_group(news_file,tokenizer,mode):\n",
    "    ''' iterate news_file, collect attrs and generate them respectively\n",
    "       \n",
    "    Args: \n",
    "        tokenizer: torchtext.data.utils.tokenizer\n",
    "        mode: int defining how many attributes to be generated\n",
    "    Returns: \n",
    "        a generator over attrs in news\n",
    "    '''\n",
    "    news_df = pd.read_table(news_file,index_col=None,names=['newsID','category','subcategory','title','abstract','url','entity_title','entity_abstract'])\n",
    "    news_iterator = news_df.iterrows()\n",
    "    \n",
    "    attrs = ['title','category','subcategory','abstract']\n",
    "    for _,i in news_iterator:\n",
    "        result = []\n",
    "        indicate = 0\n",
    "        while indicate < mode:\n",
    "            result.append(tokenizer(i[attrs[indicate]]))\n",
    "            indicate += 1\n",
    "        yield result "
   ]
  },
  {
   "cell_type": "code",
   "execution_count": 32,
   "metadata": {},
   "outputs": [],
   "source": [
    "a = news_token_generator_group(news_file,tokenizer,4)"
   ]
  },
  {
   "cell_type": "code",
   "execution_count": 36,
   "metadata": {},
   "outputs": [
    {
     "output_type": "execute_result",
     "data": {
      "text/plain": [
       "[['i',\n",
       "  'was',\n",
       "  'an',\n",
       "  'nba',\n",
       "  'wife',\n",
       "  '.',\n",
       "  'here',\n",
       "  \"'\",\n",
       "  's',\n",
       "  'how',\n",
       "  'it',\n",
       "  'affected',\n",
       "  'my',\n",
       "  'mental',\n",
       "  'health',\n",
       "  '.'],\n",
       " ['health'],\n",
       " ['voices'],\n",
       " ['i',\n",
       "  'felt',\n",
       "  'like',\n",
       "  'i',\n",
       "  'was',\n",
       "  'a',\n",
       "  'fraud',\n",
       "  ',',\n",
       "  'and',\n",
       "  'being',\n",
       "  'an',\n",
       "  'nba',\n",
       "  'wife',\n",
       "  'didn',\n",
       "  \"'\",\n",
       "  't',\n",
       "  'help',\n",
       "  'that',\n",
       "  '.',\n",
       "  'in',\n",
       "  'fact',\n",
       "  ',',\n",
       "  'it',\n",
       "  'nearly',\n",
       "  'destroyed',\n",
       "  'me',\n",
       "  '.']]"
      ]
     },
     "metadata": {},
     "execution_count": 36
    }
   ],
   "source": [
    "next(a)"
   ]
  },
  {
   "cell_type": "code",
   "execution_count": null,
   "metadata": {},
   "outputs": [],
   "source": []
  },
  {
   "cell_type": "code",
   "execution_count": null,
   "metadata": {},
   "outputs": [],
   "source": []
  }
 ]
}