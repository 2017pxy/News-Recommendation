{
 "metadata": {
  "language_info": {
   "codemirror_mode": {
    "name": "ipython",
    "version": 3
   },
   "file_extension": ".py",
   "mimetype": "text/x-python",
   "name": "python",
   "nbconvert_exporter": "python",
   "pygments_lexer": "ipython3",
   "version": "3.7.9-final"
  },
  "orig_nbformat": 2,
  "kernelspec": {
   "name": "Python 3.7.9 64-bit ('nn': conda)",
   "display_name": "Python 3.7.9 64-bit ('nn': conda)",
   "metadata": {
    "interpreter": {
     "hash": "9616ec0cf0e0dd041cba3c8886d471a5cc72bbf20e2c795f4079199200777fdd"
    }
   }
  }
 },
 "nbformat": 4,
 "nbformat_minor": 2,
 "cells": [
  {
   "cell_type": "code",
   "execution_count": 1,
   "metadata": {},
   "outputs": [],
   "source": [
    "from utils.utils import constructBasicDict\n",
    "from utils.preprocess import MINDIterator"
   ]
  },
  {
   "cell_type": "markdown",
   "metadata": {},
   "source": [
    "define paths and hyperparameters"
   ]
  },
  {
   "cell_type": "code",
   "execution_count": 2,
   "metadata": {},
   "outputs": [],
   "source": [
    "news_file = r'D:\\Data\\NR_data\\MINDsmall_train\\news.tsv'\n",
    "behavior_file = r'D:\\Data\\NR_data\\MINDsmall_train\\behaviors.tsv'\n",
    "hparam = {\n",
    "    'batch_size':10,\n",
    "    'title_size':20,\n",
    "    'his_size':20,\n",
    "    'mode':'small'\n",
    "}"
   ]
  },
  {
   "cell_type": "markdown",
   "metadata": {},
   "source": [
    "construct basic dictionaries, such as newsID2newsINDEX, userID2userINDEX, Vocabulary"
   ]
  },
  {
   "cell_type": "code",
   "execution_count": null,
   "metadata": {},
   "outputs": [],
   "source": [
    "constructBasicDict(news_file,behavior_file,'small')"
   ]
  },
  {
   "cell_type": "markdown",
   "metadata": {},
   "source": [
    "instantiate MINDIterator"
   ]
  },
  {
   "cell_type": "code",
   "execution_count": 3,
   "metadata": {},
   "outputs": [],
   "source": [
    "k = MINDIterator(hparams=hparam)\n",
    "train = k.load_data_from_file(news_file,behavior_file)"
   ]
  },
  {
   "cell_type": "code",
   "execution_count": 4,
   "metadata": {},
   "outputs": [],
   "source": [
    "a = next(train)"
   ]
  },
  {
   "cell_type": "code",
   "execution_count": 7,
   "metadata": {},
   "outputs": [
    {
     "output_type": "execute_result",
     "data": {
      "text/plain": [
       "{'impression_index_batch': tensor([[0],\n",
       "         [0],\n",
       "         [1],\n",
       "         [1],\n",
       "         [1],\n",
       "         [1],\n",
       "         [1],\n",
       "         [1],\n",
       "         [1],\n",
       "         [1]], device='cuda:0'),\n",
       " 'user_index_batch': tensor([[1],\n",
       "         [1],\n",
       "         [2],\n",
       "         [2],\n",
       "         [2],\n",
       "         [2],\n",
       "         [2],\n",
       "         [2],\n",
       "         [2],\n",
       "         [2]], device='cuda:0'),\n",
       " 'clicked_title_batch': tensor([[[    0,     0,     0,  ...,     0,     0,     0],\n",
       "          [    0,     0,     0,  ...,     0,     0,     0],\n",
       "          [    0,     0,     0,  ...,     0,     0,     0],\n",
       "          ...,\n",
       "          [ 1229,  2567,     4,  ...,     0,     0,     0],\n",
       "          [  121,   192,  2202,  ...,     0,     0,     0],\n",
       "          [  355,   789,   711,  ...,     0,     0,     0]],\n",
       " \n",
       "         [[    0,     0,     0,  ...,     0,     0,     0],\n",
       "          [    0,     0,     0,  ...,     0,     0,     0],\n",
       "          [    0,     0,     0,  ...,     0,     0,     0],\n",
       "          ...,\n",
       "          [ 1229,  2567,     4,  ...,     0,     0,     0],\n",
       "          [  121,   192,  2202,  ...,     0,     0,     0],\n",
       "          [  355,   789,   711,  ...,     0,     0,     0]],\n",
       " \n",
       "         [[20827, 16402,   264,  ...,     0,     0,     0],\n",
       "          [  732, 12701,    12,  ...,     0,     0,     0],\n",
       "          [ 2458, 20924,    66,  ...,     0,     0,     0],\n",
       "          ...,\n",
       "          [ 1349,    66,   332,  ...,     0,     0,     0],\n",
       "          [  590, 12260, 25301,  ...,     0,     0,     0],\n",
       "          [  590,     8, 23037,  ...,     0,     0,     0]],\n",
       " \n",
       "         ...,\n",
       " \n",
       "         [[20827, 16402,   264,  ...,     0,     0,     0],\n",
       "          [  732, 12701,    12,  ...,     0,     0,     0],\n",
       "          [ 2458, 20924,    66,  ...,     0,     0,     0],\n",
       "          ...,\n",
       "          [ 1349,    66,   332,  ...,     0,     0,     0],\n",
       "          [  590, 12260, 25301,  ...,     0,     0,     0],\n",
       "          [  590,     8, 23037,  ...,     0,     0,     0]],\n",
       " \n",
       "         [[20827, 16402,   264,  ...,     0,     0,     0],\n",
       "          [  732, 12701,    12,  ...,     0,     0,     0],\n",
       "          [ 2458, 20924,    66,  ...,     0,     0,     0],\n",
       "          ...,\n",
       "          [ 1349,    66,   332,  ...,     0,     0,     0],\n",
       "          [  590, 12260, 25301,  ...,     0,     0,     0],\n",
       "          [  590,     8, 23037,  ...,     0,     0,     0]],\n",
       " \n",
       "         [[20827, 16402,   264,  ...,     0,     0,     0],\n",
       "          [  732, 12701,    12,  ...,     0,     0,     0],\n",
       "          [ 2458, 20924,    66,  ...,     0,     0,     0],\n",
       "          ...,\n",
       "          [ 1349,    66,   332,  ...,     0,     0,     0],\n",
       "          [  590, 12260, 25301,  ...,     0,     0,     0],\n",
       "          [  590,     8, 23037,  ...,     0,     0,     0]]], device='cuda:0'),\n",
       " 'candidate_title_batch': tensor([[[ 1579,  2914,     4,   121,   259,    56,   124,     4,   449,   634,\n",
       "             308,     4,   277,    16,  2657,     0,     0,     0,     0,     0]],\n",
       " \n",
       "         [[ 4473,  2669,    63,   204,   466,     9,    29,   778,   448,     4,\n",
       "             955,   146,     0,     0,     0,     0,     0,     0,     0,     0]],\n",
       " \n",
       "         [[15519,  2294,  2424,    23,  3262,  1943,    22, 36534,   364,    38,\n",
       "             137,    19,    81,    12,     3,  2679,     0,     0,     0,     0]],\n",
       " \n",
       "         [[  787,    53,   599, 14656, 24751,     4,    71,   479,    13,  2048,\n",
       "              81,  2154,     0,     0,     0,     0,     0,     0,     0,     0]],\n",
       " \n",
       "         [[  157,   924,  8074,  1437,  6729,   367,    95,     7,   380,     4,\n",
       "             261,  4025,     0,     0,     0,     0,     0,     0,     0,     0]],\n",
       " \n",
       "         [[  576,     9,   332,   198,   547,   298,     0,  1243,   996,   130,\n",
       "               0,     0,     0,     0,     0,     0,     0,     0,     0,     0]],\n",
       " \n",
       "         [[   19,    11,    55,    58,  4958, 24412,    86,    79,    14,  1410,\n",
       "               7,  3537,    50,  2743,     0,     0,     0,     0,     0,     0]],\n",
       " \n",
       "         [[ 6239,  2626,    24,  7454,    12,     6,  5280,  1651,  2095,   106,\n",
       "               8,   157,     0,     0,     0,     0,     0,     0,     0,     0]],\n",
       " \n",
       "         [[ 5084,  5208,    11,   289,    18,  4773,     6, 32977,  1776, 35061,\n",
       "               4,   970,    45,   118,     0,     0,     0,     0,     0,     0]],\n",
       " \n",
       "         [[   75,     2,   142,  4662,   261,  5246,  3899,   737,  1540,     8,\n",
       "            2225,     0,     0,     0,     0,     0,     0,     0,     0,     0]]],\n",
       "        device='cuda:0'),\n",
       " 'labels': tensor([[1.],\n",
       "         [0.],\n",
       "         [0.],\n",
       "         [0.],\n",
       "         [0.],\n",
       "         [0.],\n",
       "         [0.],\n",
       "         [0.],\n",
       "         [0.],\n",
       "         [1.]], device='cuda:0')}"
      ]
     },
     "metadata": {},
     "execution_count": 7
    }
   ],
   "source": [
    "a"
   ]
  },
  {
   "cell_type": "code",
   "execution_count": null,
   "metadata": {},
   "outputs": [],
   "source": []
  }
 ]
}