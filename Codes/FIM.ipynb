{
 "metadata": {
  "language_info": {
   "codemirror_mode": {
    "name": "ipython",
    "version": 3
   },
   "file_extension": ".py",
   "mimetype": "text/x-python",
   "name": "python",
   "nbconvert_exporter": "python",
   "pygments_lexer": "ipython3",
   "version": "3.7.9-final"
  },
  "orig_nbformat": 2,
  "kernelspec": {
   "name": "Python 3.7.9 64-bit ('nn': conda)",
   "display_name": "Python 3.7.9 64-bit ('nn': conda)",
   "metadata": {
    "interpreter": {
     "hash": "9616ec0cf0e0dd041cba3c8886d471a5cc72bbf20e2c795f4079199200777fdd"
    }
   }
  }
 },
 "nbformat": 4,
 "nbformat_minor": 2,
 "cells": [
  {
   "cell_type": "code",
   "execution_count": 1,
   "metadata": {},
   "outputs": [],
   "source": [
    "import torch\n",
    "import math\n",
    "import torch.nn as nn\n",
    "import torch.optim as optim\n",
    "from tqdm import tqdm\n",
    "from torchtext.vocab import GloVe\n",
    "from utils.preprocess import MINDIterator\n",
    "from utils.utils import getVocab,getLoss,getLabel,constructBasicDict,run_eval,run_train\n",
    "from models.FIM import FIMModel"
   ]
  },
  {
   "cell_type": "markdown",
   "metadata": {},
   "source": [
    "## setting up the *FIM* model\n",
    "\n",
    "### define paths and hyperparameters, load data\n",
    "\n",
    "all these hyper parameters are fixed according to the paper [\\[29\\] Fine-grained Interest Matching for Neural News Recommendation](https://www.aclweb.org/anthology/2020.acl-main.77.pdf)\n",
    "\n",
    "- *mode*: data to read (*small*/*large*)\n",
    "\n",
    "- *batch_size*: size of each minibatch\n",
    "\n",
    "- *title_size*: max word capacity of title\n",
    "\n",
    "- *his_size*: max record capacity of click history\n",
    "\n",
    "- *npratio*: number of negtive sampling\n",
    "\n",
    "- *dilation_level*: levels of diferrent dilation rate\n",
    "\n",
    "- *kernel_size*: size of 1dCNN kernel\n",
    "\n",
    "- *filter_num*: number of kernels in 1D CNN, which is also embedding dimension of news/user\n",
    "\n",
    "- *embedding_dim*: word embedding dimension\n",
    "\n",
    "### Note \n",
    "\n",
    "Although I list *dilation_level* and *kernel_size*, some properties related to both variables are fixed in the FIM model because I don't have time to well-design my model to make it adapt to these variables dynamically. "
   ]
  },
  {
   "cell_type": "code",
   "execution_count": 2,
   "metadata": {},
   "outputs": [],
   "source": [
    "hparams = {\n",
    "    'mode':'small',\n",
    "    'batch_size':5,\n",
    "    'title_size':18,\n",
    "    'his_size':50,\n",
    "    'kernel_size':3,\n",
    "    'npratio':4,     \n",
    "    'dilation_level':3,\n",
    "    'filter_num':150,\n",
    "    'embedding_dim':300,\n",
    "    'metrics':'group_auc,ndcg@4,mean_mrr',\n",
    "    'gpu':'cuda:0'\n",
    "}\n",
    "\n",
    "# customize your path here\n",
    "news_file = r'D:\\Data\\NR_data\\dev\\news.tsv'\n",
    "behavior_file_train = r'D:\\Data\\NR_data\\dev\\behaviors_train.tsv'\n",
    "behavior_file_test = r'D:\\Data\\NR_data\\dev\\behaviors_test.tsv'\n",
    "save_path = 'models/model_param/FIM.model'\n",
    "\n",
    "# if user2id,word2id,news2id hasn't been constructed\n",
    "if not os.path.exists('data/vocab_'+hparams['mode']+'.pkl'):\n",
    "    constructBasicDict(news_file,behavior_file_train,hparams['mode'])\n",
    "\n",
    "device = torch.device(hparams['gpu']) if torch.cuda.is_available() else torch.device(\"cpu\")\n",
    "\n",
    "iterator_train = MINDIterator(hparams=hparams,news_file=news_file,behaviors_file=behavior_file_train)\n",
    "\n",
    "vocab = iterator_train.vocab\n",
    "embedding = GloVe(dim=300,cache='.vector_cache')\n",
    "vocab.load_vectors(embedding)"
   ]
  },
  {
   "cell_type": "code",
   "execution_count": 3,
   "metadata": {},
   "outputs": [],
   "source": [
    "# you can load my model or train yours\n",
    "if os.path.exists(save_path):\n",
    "    fimModel = FIMModel(vocab=vocab,hparams=hparams)\n",
    "    fimModel.load_state_dict(torch.load(save_path))\n",
    "    fimModel.to(device).eval()\n",
    "\n",
    "else:\n",
    "    fimModel = FIMModel(vocab=vocab,hparams=hparams).to(device)\n",
    "    fimModel.train()"
   ]
  },
  {
   "cell_type": "markdown",
   "metadata": {},
   "source": [
    "### train the model"
   ]
  },
  {
   "cell_type": "code",
   "execution_count": 4,
   "metadata": {},
   "outputs": [
    {
     "output_type": "stream",
     "name": "stderr",
     "text": [
      "epoch 0 , step 100 , total_loss: 1.6062, batch_loss: 1.5703: : 143it [00:09, 14.69it/s]\n",
      "epoch 1 , step 100 , total_loss: 1.4956, batch_loss: 1.4249: : 143it [00:07, 19.12it/s]\n",
      "epoch 2 , step 100 , total_loss: 1.4507, batch_loss: 1.3582: : 143it [00:07, 19.00it/s]\n",
      "epoch 3 , step 100 , total_loss: 1.3372, batch_loss: 1.2950: : 143it [00:07, 18.75it/s]\n",
      "epoch 4 , step 100 , total_loss: 1.1739, batch_loss: 1.3782: : 143it [00:07, 18.63it/s]\n",
      "epoch 5 , step 100 , total_loss: 1.1386, batch_loss: 1.8118: : 143it [00:07, 18.54it/s]\n",
      "epoch 6 , step 100 , total_loss: 1.0365, batch_loss: 1.5139: : 143it [00:07, 18.56it/s]\n",
      "epoch 7 , step 100 , total_loss: 0.8622, batch_loss: 0.8031: : 143it [00:07, 18.40it/s]\n",
      "epoch 8 , step 100 , total_loss: 0.8085, batch_loss: 0.9867: : 143it [00:07, 18.37it/s]\n",
      "epoch 9 , step 100 , total_loss: 0.6580, batch_loss: 0.5094: : 143it [00:07, 18.41it/s]\n"
     ]
    }
   ],
   "source": [
    "if fimModel.training:\n",
    "    loss_func = getLoss(fimModel)\n",
    "    optimizer = optim.Adam(fimModel.parameters(),lr=0.001)\n",
    "    fimModel = run_train(fimModel,iterator_train,optimizer,loss_func)"
   ]
  },
  {
   "cell_type": "markdown",
   "metadata": {},
   "source": [
    "### test & evaluate"
   ]
  },
  {
   "cell_type": "code",
   "execution_count": 4,
   "metadata": {},
   "outputs": [
    {
     "output_type": "execute_result",
     "data": {
      "text/plain": [
       "{'group_auc': 0.6386, 'ndcg@4': 0.2424, 'mean_mrr': 0.2528}"
      ]
     },
     "metadata": {},
     "execution_count": 4
    }
   ],
   "source": [
    "iterator_test = MINDIterator(hparams,news_file,behavior_file_test)\n",
    "iterator_test.npratio = -1\n",
    "test = iterator_test.load_data_from_file()\n",
    "\n",
    "fimModel.eval()\n",
    "fimModel.npratio = -1\n",
    "run_eval(fimModel,test)"
   ]
  },
  {
   "cell_type": "markdown",
   "metadata": {},
   "source": [
    "### save the model"
   ]
  },
  {
   "cell_type": "code",
   "execution_count": 9,
   "metadata": {},
   "outputs": [],
   "source": [
    "fimModel.npratio = 4\n",
    "torch.save(fimModel.state_dict(), save_path)"
   ]
  }
 ]
}