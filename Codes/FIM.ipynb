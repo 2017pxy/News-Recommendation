{
 "metadata": {
  "language_info": {
   "codemirror_mode": {
    "name": "ipython",
    "version": 3
   },
   "file_extension": ".py",
   "mimetype": "text/x-python",
   "name": "python",
   "nbconvert_exporter": "python",
   "pygments_lexer": "ipython3",
   "version": "3.7.9-final"
  },
  "orig_nbformat": 2,
  "kernelspec": {
   "name": "Python 3.7.9 64-bit ('nn': conda)",
   "display_name": "Python 3.7.9 64-bit ('nn': conda)",
   "metadata": {
    "interpreter": {
     "hash": "9616ec0cf0e0dd041cba3c8886d471a5cc72bbf20e2c795f4079199200777fdd"
    }
   }
  }
 },
 "nbformat": 4,
 "nbformat_minor": 2,
 "cells": [
  {
   "cell_type": "code",
   "execution_count": 1,
   "metadata": {},
   "outputs": [],
   "source": [
    "import torch\n",
    "import torch.nn as nn\n",
    "import torch.optim as optim\n",
    "from tqdm import tqdm\n",
    "from torchtext.vocab import GloVe\n",
    "from utils.preprocess import MINDIterator\n",
    "from utils.utils import getVocab,getLoss,getLabel,constructBasicDict,run_eval,run_train\n",
    "from models.FIM import FIMModel"
   ]
  },
  {
   "cell_type": "markdown",
   "metadata": {},
   "source": [
    "## setting up the *FIM* model\n",
    "\n",
    "### define paths and hyperparameters, load data\n",
    "\n",
    "all these hyper parameters are fixed according to the paper [\\[29\\] Fine-grained Interest Matching for Neural News Recommendation](https://www.aclweb.org/anthology/2020.acl-main.77.pdf)\n",
    "\n",
    "- *mode*: data to read (*demo*/*small*/*large*)\n",
    "\n",
    "- *batch_size*: size of each minibatch\n",
    "\n",
    "- *title_size*: max word capacity of title\n",
    "\n",
    "- *his_size*: max record capacity of click history\n",
    "\n",
    "- *npratio*: number of negtive sampling\n",
    "\n",
    "- *dilation_level*: levels of diferrent dilation rate\n",
    "\n",
    "- *kernel_size*: size of 1dCNN kernel\n",
    "\n",
    "- *filter_num*: number of kernels in 1D CNN, which is also embedding dimension of news/user\n",
    "\n",
    "- *embedding_dim*: word embedding dimension\n",
    "\n",
    "- *metrics*: metrics to be used in evaluating\n",
    "\n",
    "- *gpu*: gpu ID if available\n",
    "\n",
    "- *attrs*: the columns used to construct vocab\n",
    "\n",
    "### Note \n",
    "\n",
    "Although I list *dilation_level* and *kernel_size*, some properties related to both variables are fixed in the FIM model because I don't have time to well-design my model to make it adapt to these variables dynamically. "
   ]
  },
  {
   "cell_type": "code",
   "execution_count": 2,
   "metadata": {},
   "outputs": [],
   "source": [
    "hparams = {\n",
    "    'mode':'demo',\n",
    "    'batch_size':5,\n",
    "    'title_size':18,\n",
    "    'his_size':50,\n",
    "    'kernel_size':3,\n",
    "    'npratio':4,     \n",
    "    'dilation_level':3,\n",
    "    'filter_num':150,\n",
    "    'embedding_dim':300,\n",
    "    'metrics':'group_auc,ndcg@4,mean_mrr',\n",
    "    'gpu':'cuda:0',\n",
    "    'attrs': ['title','category','subcategory']\n",
    "}\n",
    "\n",
    "# customize your path here\n",
    "\n",
    "news_file_train = 'D:/Data/NR_data/dev/news_train.tsv'\n",
    "news_file_test = 'D:/Data/NR_data/dev/news_test.tsv'\n",
    "behavior_file_train = 'D:/Data/NR_data/dev/behaviors_train.tsv'\n",
    "behavior_file_test = 'D:/Data/NR_data/dev/behaviors_test.tsv'\n",
    "save_path = 'models/model_param/FIM_'+ hparams['mode'] +'.model'\n",
    "\n",
    "# if user2id,word2id,news2id haven't been constructed\n",
    "if not os.path.exists('data/nid2idx_{}_{}.json'.format(hparams['mode'],'train')):\n",
    "    constructBasicDict(news_file_train,behavior_file_train,hparams['mode'],'train',hparams['attrs'])\n",
    "\n",
    "if not os.path.exists('data/nid2idx_{}_{}.json'.format(hparams['mode'],'test')):\n",
    "    constructBasicDict(news_file_test,behavior_file_test,hparams['mode'],'test',hparams['attrs'])\n",
    "\n",
    "device = torch.device(hparams['gpu']) if torch.cuda.is_available() else torch.device(\"cpu\")\n",
    "\n",
    "iterator_train = MINDIterator(hparams=hparams,mode='train',news_file=news_file_train,behaviors_file=behavior_file_train)\n",
    "\n",
    "iterator_test = MINDIterator(hparams=hparams,mode='test',news_file=news_file_test,behaviors_file=behavior_file_test)\n",
    "\n",
    "vocab_train = iterator_train.vocab\n",
    "embedding = GloVe(dim=300,cache='.vector_cache')\n",
    "vocab_train.load_vectors(embedding)\n",
    "\n",
    "vocab_test = iterator_test.vocab\n",
    "vocab_test.load_vectors(embedding)"
   ]
  },
  {
   "cell_type": "code",
   "execution_count": 3,
   "metadata": {},
   "outputs": [],
   "source": [
    "# you can load my model or train yours\n",
    "if os.path.exists(save_path):\n",
    "    fimModel = FIMModel(vocab=vocab_train,hparams=hparams)\n",
    "    fimModel.load_state_dict(torch.load(save_path))\n",
    "    fimModel.to(device).eval()\n",
    "\n",
    "else:\n",
    "    fimModel = FIMModel(vocab=vocab_train,hparams=hparams).to(device)\n",
    "    fimModel.train()"
   ]
  },
  {
   "cell_type": "markdown",
   "metadata": {},
   "source": [
    "### train the model"
   ]
  },
  {
   "cell_type": "code",
   "execution_count": 4,
   "metadata": {},
   "outputs": [],
   "source": [
    "if fimModel.training:\n",
    "    loss_func = getLoss(fimModel)\n",
    "    optimizer = optim.Adam(fimModel.parameters(),lr=0.001)\n",
    "    fimModel = run_train(fimModel,iterator_train,optimizer,loss_func, epochs=20, interval=15)"
   ]
  },
  {
   "cell_type": "markdown",
   "metadata": {},
   "source": [
    "### test & evaluate"
   ]
  },
  {
   "cell_type": "code",
   "execution_count": 5,
   "metadata": {},
   "outputs": [
    {
     "output_type": "execute_result",
     "data": {
      "text/plain": [
       "{'group_auc': 0.5403, 'ndcg@4': 0.2337, 'mean_mrr': 0.2456}"
      ]
     },
     "metadata": {},
     "execution_count": 5
    }
   ],
   "source": [
    "fimModel.eval()\n",
    "fimModel.vocab = vocab_test\n",
    "fimModel.npratio = -1\n",
    "iterator_test.npratio = -1\n",
    "\n",
    "run_eval(fimModel,iterator_test)"
   ]
  },
  {
   "cell_type": "markdown",
   "metadata": {},
   "source": [
    "### save the model"
   ]
  },
  {
   "cell_type": "code",
   "execution_count": 6,
   "metadata": {},
   "outputs": [],
   "source": [
    "fimModel.npratio = 4\n",
    "torch.save(fimModel.state_dict(), save_path)"
   ]
  }
 ]
}