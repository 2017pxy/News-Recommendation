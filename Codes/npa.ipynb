{
 "metadata": {
  "language_info": {
   "codemirror_mode": {
    "name": "ipython",
    "version": 3
   },
   "file_extension": ".py",
   "mimetype": "text/x-python",
   "name": "python",
   "nbconvert_exporter": "python",
   "pygments_lexer": "ipython3",
   "version": "3.7.9-final"
  },
  "orig_nbformat": 2,
  "kernelspec": {
   "name": "Python 3.7.9 64-bit ('nn': conda)",
   "display_name": "Python 3.7.9 64-bit ('nn': conda)",
   "metadata": {
    "interpreter": {
     "hash": "9616ec0cf0e0dd041cba3c8886d471a5cc72bbf20e2c795f4079199200777fdd"
    }
   }
  }
 },
 "nbformat": 4,
 "nbformat_minor": 2,
 "cells": [
  {
   "cell_type": "code",
   "execution_count": 1,
   "metadata": {},
   "outputs": [],
   "source": [
    "import torch\n",
    "import torch.optim as optim\n",
    "from torchtext.vocab import FastText\n",
    "from utils.preprocess import MINDIterator\n",
    "from utils.utils import getVocab,getLoss,getLabel\n",
    "from models.NPA import NPAModel"
   ]
  },
  {
   "cell_type": "markdown",
   "metadata": {},
   "source": [
    "## setting up the *NPA* model\n",
    "\n",
    "### define paths and hyperparameters, load data\n",
    "\n",
    "all these hyper parameters are fixed according to the paper [23](https://dl.acm.org/doi/abs/10.1145/3292500.3330665)\n",
    "\n",
    "- *mode*: data to read (*small*/*large*)\n",
    "\n",
    "- *batch_size*: size of each minibatch\n",
    "\n",
    "- *title_size*: max word capacity of title\n",
    "\n",
    "- *his_size*: max record capacity of click history\n",
    "\n",
    "- *npratio*: number of negtive sampling\n",
    "\n",
    "- *dropout_p*: probability of dropout layer\n",
    "\n",
    "- *filter_num*: number of kernels in 1D CNN, which is also embedding dimension of news/user\n",
    "\n",
    "- *embedding_dim*: word embedding dimension\n",
    "\n",
    "- *user_dim*: user id embedding dimension\n",
    "\n",
    "- *preference_dim*: user preference embedding dimension"
   ]
  },
  {
   "cell_type": "code",
   "execution_count": 2,
   "metadata": {},
   "outputs": [],
   "source": [
    "news_file = r'D:\\Data\\NR_data\\MINDsmall_train\\news.tsv'\n",
    "behavior_file = r'D:\\Data\\NR_data\\MINDsmall_train\\behaviors.tsv'\n",
    "hparams = {\n",
    "    'mode':'small',\n",
    "    'batch_size':5,     #100\n",
    "    'title_size':20,    #30\n",
    "    'his_size':20,      #50\n",
    "    'npratio':3,        #4\n",
    "    'dropout_p':0.2,\n",
    "    'filter_num':400,\n",
    "    'embedding_dim':300,\n",
    "    'user_dim':50\n",
    "    'preference_dim':200,\n",
    "}\n",
    "\n",
    "device = torch.device(\"cuda\") if torch.cuda.is_available() else torch.device(\"cpu\")\n",
    "\n",
    "iterator = MINDIterator(hparams=hparams)\n",
    "train = iterator.load_data_from_file(news_file,behavior_file)\n",
    "\n",
    "# torchtext.Vocab.vocab object\n",
    "vocab = iterator.word_dict\n",
    "embedding = FastText('simple',cache='.vector_cache')\n",
    "vocab.load_vectors(embedding)"
   ]
  },
  {
   "cell_type": "code",
   "execution_count": 3,
   "metadata": {},
   "outputs": [],
   "source": [
    "record = next(train)"
   ]
  },
  {
   "cell_type": "code",
   "execution_count": 4,
   "metadata": {},
   "outputs": [
    {
     "output_type": "execute_result",
     "data": {
      "text/plain": [
       "NPAModel(\n",
       "  (userProject): Linear(in_features=1, out_features=50, bias=True)\n",
       "  (wordQueryProject): Linear(in_features=50, out_features=200, bias=True)\n",
       "  (newsQueryProject): Linear(in_features=50, out_features=200, bias=True)\n",
       "  (wordPrefProject): Linear(in_features=200, out_features=400, bias=True)\n",
       "  (newsPrefProject): Linear(in_features=200, out_features=400, bias=True)\n",
       "  (CNN): Conv1d(300, 400, kernel_size=(3,), stride=(1,), padding=(1,))\n",
       "  (RELU): ReLU()\n",
       "  (DropOut): Dropout(p=0.2, inplace=False)\n",
       ")"
      ]
     },
     "metadata": {},
     "execution_count": 4
    }
   ],
   "source": [
    "npaModel = NPAModel(vocab=vocab,hparams=hparams)\n",
    "\n",
    "# migrate the model to GPU\n",
    "npaModel.to(device)"
   ]
  },
  {
   "cell_type": "markdown",
   "metadata": {},
   "source": [
    "### a prediction example\n",
    "*training, testing and evaluating phase will be updated later*"
   ]
  },
  {
   "cell_type": "code",
   "execution_count": 5,
   "metadata": {},
   "outputs": [
    {
     "output_type": "execute_result",
     "data": {
      "text/plain": [
       "tensor([[-1.3550, -1.3247, -1.5654, -1.3199],\n",
       "        [-1.4652, -1.1928, -1.7035, -1.2604],\n",
       "        [-1.3407, -1.3079, -1.4717, -1.4338],\n",
       "        [-1.3793, -1.3189, -1.6652, -1.2321],\n",
       "        [-1.2793, -1.6684, -1.2879, -1.3573]], device='cuda:0',\n",
       "       grad_fn=<SqueezeBackward0>)"
      ]
     },
     "metadata": {},
     "execution_count": 5
    }
   ],
   "source": [
    "c = npaModel(record)\n",
    "c"
   ]
  },
  {
   "cell_type": "code",
   "execution_count": 6,
   "metadata": {},
   "outputs": [
    {
     "output_type": "execute_result",
     "data": {
      "text/plain": [
       "tensor(1.3639, device='cuda:0', grad_fn=<NllLossBackward>)"
      ]
     },
     "metadata": {},
     "execution_count": 6
    }
   ],
   "source": [
    "loss_func = getLoss(npaModel)\n",
    "optimizer = optim.Adam(npaModel.parameters(),lr=0.002)\n",
    "label = getLabel(npaModel,record)\n",
    "loss = loss_func(c,label)\n",
    "loss\n",
    "\n",
    "# for epoch in range(2):\n",
    "#     for x in train:\n",
    "#         pred = npaModel(x)\n",
    "#         label = getLabel(npaModel,x)\n",
    "#         loss = loss_func(pred,label)\n",
    "#         loss.backward()\n",
    "#         optimizer.step()\n",
    "#         optimizer.zero_grad()\n",
    "#     print(loss)"
   ]
  },
  {
   "cell_type": "markdown",
   "metadata": {},
   "source": [
    "### a glance of data"
   ]
  },
  {
   "cell_type": "code",
   "execution_count": 66,
   "metadata": {},
   "outputs": [
    {
     "output_type": "execute_result",
     "data": {
      "text/plain": [
       "(torch.Size([5, 4, 20]),\n",
       " torch.Size([5, 20, 20]),\n",
       " tensor([[1., 0., 0., 0.],\n",
       "         [1., 0., 0., 0.],\n",
       "         [1., 0., 0., 0.],\n",
       "         [1., 0., 0., 0.],\n",
       "         [1., 0., 0., 0.]]))"
      ]
     },
     "metadata": {},
     "execution_count": 66
    }
   ],
   "source": [
    "candidate = record['candidate_title_batch']\n",
    "history = record['clicked_title_batch']\n",
    "label = record['labels']\n",
    "record['candidate_title_batch'].shape,record['clicked_title_batch'].shape,label"
   ]
  }
 ]
}