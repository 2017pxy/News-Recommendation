{
 "metadata": {
  "language_info": {
   "codemirror_mode": {
    "name": "ipython",
    "version": 3
   },
   "file_extension": ".py",
   "mimetype": "text/x-python",
   "name": "python",
   "nbconvert_exporter": "python",
   "pygments_lexer": "ipython3",
   "version": "3.7.9-final"
  },
  "orig_nbformat": 2,
  "kernelspec": {
   "name": "Python 3.7.9 64-bit ('nn': conda)",
   "display_name": "Python 3.7.9 64-bit ('nn': conda)",
   "metadata": {
    "interpreter": {
     "hash": "9616ec0cf0e0dd041cba3c8886d471a5cc72bbf20e2c795f4079199200777fdd"
    }
   }
  }
 },
 "nbformat": 4,
 "nbformat_minor": 2,
 "cells": [
  {
   "cell_type": "code",
   "execution_count": 1,
   "metadata": {},
   "outputs": [],
   "source": [
    "import os\n",
    "import torch\n",
    "import torch.optim as optim\n",
    "from torchtext.vocab import FastText\n",
    "from utils.preprocess import MINDIterator\n",
    "from utils.utils import getVocab,getLoss,getLabel,constructBasicDict,run_eval,run_train\n",
    "from models.NPA import NPAModel"
   ]
  },
  {
   "cell_type": "markdown",
   "metadata": {},
   "source": [
    "## setting up the *NPA* model\n",
    "\n",
    "### define paths and hyperparameters, load data\n",
    "\n",
    "all these hyper parameters are fixed according to the paper [\\[23\\] Npa Neural news recommendation with personalized attention](https://dl.acm.org/doi/abs/10.1145/3292500.3330665)\n",
    "\n",
    "- *mode*: data to read (*demo*/*small*/*large*)\n",
    "\n",
    "- *batch_size*: size of each minibatch\n",
    "\n",
    "- *title_size*: max word capacity of title\n",
    "\n",
    "- *his_size*: max record capacity of click history\n",
    "\n",
    "- *npratio*: number of negtive sampling\n",
    "\n",
    "- *dropout_p*: probability of dropout layer\n",
    "\n",
    "- *filter_num*: number of kernels in 1D CNN, which is also embedding dimension of news/user\n",
    "\n",
    "- *embedding_dim*: word embedding dimension\n",
    "\n",
    "- *user_dim*: user id embedding dimension\n",
    "\n",
    "- *preference_dim*: user preference embedding dimension"
   ]
  },
  {
   "cell_type": "code",
   "execution_count": 12,
   "metadata": {},
   "outputs": [],
   "source": [
    "hparams = {\n",
    "    'mode':'demo',\n",
    "    'batch_size':50,#100,\n",
    "    'title_size':30,\n",
    "    'his_size':50,   \n",
    "    'npratio':4,     \n",
    "    'dropout_p':0.2,\n",
    "    'filter_num':400,\n",
    "    'embedding_dim':300,\n",
    "    'user_dim':50,\n",
    "    'preference_dim':200,\n",
    "    'metrics':'group_auc,ndcg@4,mean_mrr',\n",
    "    'gpu':'cuda:0',\n",
    "    'attrs': ['title']\n",
    "}\n",
    "\n",
    "# customize your path here\n",
    "\n",
    "news_file_train = 'D:/Data/NR_data/dev/news_train.tsv'\n",
    "news_file_test = 'D:/Data/NR_data/dev/news_test.tsv'\n",
    "behavior_file_train = 'D:/Data/NR_data/dev/behaviors_train.tsv'\n",
    "behavior_file_test = 'D:/Data/NR_data/dev/behaviors_test.tsv'\n",
    "save_path = 'models/model_param/NPA_'+ hparams['mode'] +'.model'\n",
    "\n",
    "# if user2id,word2id,news2id haven't been constructed\n",
    "if not os.path.exists('data/vocab_{}_{}_{}.pkl'.format(hparams['mode'],'train','_'.join(hparams['attrs']))):\n",
    "    constructBasicDict(news_file_train,behavior_file_train,hparams['mode'],'train',hparams['attrs'])\n",
    "\n",
    "if not os.path.exists('data/vocab_{}_{}_{}.pkl'.format(hparams['mode'],'test','_'.join(hparams['attrs']))):\n",
    "    constructBasicDict(news_file_test,behavior_file_test,hparams['mode'],'test',hparams['attrs'])\n",
    "\n",
    "device = torch.device(hparams['gpu']) if torch.cuda.is_available() else torch.device(\"cpu\")\n",
    "\n",
    "iterator_train = MINDIterator(hparams=hparams,mode='train',news_file=news_file_train,behaviors_file=behavior_file_train)\n",
    "\n",
    "iterator_test = MINDIterator(hparams=hparams,mode='test',news_file=news_file_test,behaviors_file=behavior_file_test)\n",
    "\n",
    "vocab_train = iterator_train.vocab\n",
    "embedding = FastText('simple',cache='.vector_cache')\n",
    "vocab_train.load_vectors(embedding)\n",
    "\n",
    "vocab_test = iterator_test.vocab\n",
    "vocab_test.load_vectors(embedding)"
   ]
  },
  {
   "cell_type": "code",
   "execution_count": 17,
   "metadata": {},
   "outputs": [],
   "source": [
    "# you can load my model or train yours\n",
    "if os.path.exists(save_path):\n",
    "    npaModel = NPAModel(vocab=vocab_train,hparams=hparams)\n",
    "    npaModel.load_state_dict(torch.load(save_path))\n",
    "    npaModel.to(device).eval()\n",
    "\n",
    "else:\n",
    "    npaModel = NPAModel(vocab=vocab_train,hparams=hparams).to(device)\n",
    "    npaModel.train()"
   ]
  },
  {
   "cell_type": "markdown",
   "metadata": {},
   "source": [
    "### train model"
   ]
  },
  {
   "cell_type": "code",
   "execution_count": 18,
   "metadata": {},
   "outputs": [
    {
     "output_type": "stream",
     "name": "stderr",
     "text": [
      "epoch 0 , step 45 , total_loss: 1.6102, batch_loss: 1.5801: : 59it [00:22,  2.68it/s]\n",
      "epoch 1 , step 45 , total_loss: 1.6171, batch_loss: 1.5487: : 59it [00:21,  2.80it/s]\n",
      "epoch 2 , step 45 , total_loss: 1.6253, batch_loss: 1.6265: : 59it [00:21,  2.76it/s]\n",
      "epoch 3 , step 45 , total_loss: 1.6224, batch_loss: 1.6114: : 59it [00:21,  2.77it/s]\n",
      "epoch 4 , step 45 , total_loss: 1.6025, batch_loss: 1.5346: : 59it [00:20,  2.85it/s]\n"
     ]
    }
   ],
   "source": [
    "if npaModel.training:\n",
    "    loss_func = getLoss(npaModel)\n",
    "    optimizer = optim.Adam(npaModel.parameters(),lr=0.0002)\n",
    "\n",
    "    npaModel = run_train(npaModel,iterator_train,optimizer,loss_func, epochs=5, interval=15)"
   ]
  },
  {
   "cell_type": "markdown",
   "metadata": {},
   "source": [
    "### test & evaluate"
   ]
  },
  {
   "cell_type": "code",
   "execution_count": 19,
   "metadata": {
    "tags": []
   },
   "outputs": [
    {
     "output_type": "execute_result",
     "data": {
      "text/plain": [
       "{'group_auc': 0.5229, 'ndcg@4': 0.2067, 'mean_mrr': 0.2206}"
      ]
     },
     "metadata": {},
     "execution_count": 19
    }
   ],
   "source": [
    "npaModel.eval()\n",
    "npaModel.vocab = vocab_test\n",
    "npaModel.npratio = -1\n",
    "iterator_test.npratio = -1\n",
    "\n",
    "run_eval(npaModel,iterator_test)"
   ]
  },
  {
   "cell_type": "markdown",
   "metadata": {},
   "source": [
    "### save the model"
   ]
  },
  {
   "cell_type": "code",
   "execution_count": 20,
   "metadata": {},
   "outputs": [],
   "source": [
    "npaModel.npratio = 4\n",
    "torch.save(npaModel.state_dict(), save_path)"
   ]
  },
  {
   "cell_type": "code",
   "execution_count": null,
   "metadata": {},
   "outputs": [],
   "source": []
  }
 ]
}