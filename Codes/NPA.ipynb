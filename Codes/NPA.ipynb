{
 "metadata": {
  "language_info": {
   "codemirror_mode": {
    "name": "ipython",
    "version": 3
   },
   "file_extension": ".py",
   "mimetype": "text/x-python",
   "name": "python",
   "nbconvert_exporter": "python",
   "pygments_lexer": "ipython3",
   "version": "3.7.9-final"
  },
  "orig_nbformat": 2,
  "kernelspec": {
   "name": "Python 3.7.9 64-bit ('nn': conda)",
   "display_name": "Python 3.7.9 64-bit ('nn': conda)",
   "metadata": {
    "interpreter": {
     "hash": "9616ec0cf0e0dd041cba3c8886d471a5cc72bbf20e2c795f4079199200777fdd"
    }
   }
  }
 },
 "nbformat": 4,
 "nbformat_minor": 2,
 "cells": [
  {
   "cell_type": "code",
   "execution_count": 1,
   "metadata": {},
   "outputs": [],
   "source": [
    "import torch\n",
    "import torch.optim as optim\n",
    "from tqdm import tqdm\n",
    "from torchtext.vocab import FastText\n",
    "from utils.preprocess import MINDIterator\n",
    "from utils.utils import getVocab,getLoss,getLabel,constructBasicDict,run_eval,run_train\n",
    "from models.NPA import NPAModel"
   ]
  },
  {
   "cell_type": "markdown",
   "metadata": {},
   "source": [
    "## setting up the *NPA* model\n",
    "\n",
    "### define paths and hyperparameters, load data\n",
    "\n",
    "all these hyper parameters are fixed according to the paper [\\[23\\] Npa Neural news recommendation with personalized attention](https://dl.acm.org/doi/abs/10.1145/3292500.3330665)\n",
    "\n",
    "- *mode*: data to read (*small*/*large*)\n",
    "\n",
    "- *batch_size*: size of each minibatch\n",
    "\n",
    "- *title_size*: max word capacity of title\n",
    "\n",
    "- *his_size*: max record capacity of click history\n",
    "\n",
    "- *npratio*: number of negtive sampling\n",
    "\n",
    "- *dropout_p*: probability of dropout layer\n",
    "\n",
    "- *filter_num*: number of kernels in 1D CNN, which is also embedding dimension of news/user\n",
    "\n",
    "- *embedding_dim*: word embedding dimension\n",
    "\n",
    "- *user_dim*: user id embedding dimension\n",
    "\n",
    "- *preference_dim*: user preference embedding dimension"
   ]
  },
  {
   "cell_type": "code",
   "execution_count": 2,
   "metadata": {},
   "outputs": [],
   "source": [
    "hparams = {\n",
    "    'mode':'small',\n",
    "    'batch_size':5,#100,\n",
    "    'title_size':30,\n",
    "    'his_size':50,   \n",
    "    'npratio':4,     \n",
    "    'dropout_p':0.2,\n",
    "    'filter_num':400,\n",
    "    'embedding_dim':300,\n",
    "    'user_dim':50,\n",
    "    'preference_dim':200,\n",
    "    'metrics':'group_auc,ndcg@4,mean_mrr',\n",
    "    'gpu':'cuda:0'\n",
    "}\n",
    "\n",
    "# customize your path here\n",
    "news_file = r'D:\\Data\\NR_data\\dev\\news.tsv'\n",
    "behavior_file_train = r'D:\\Data\\NR_data\\dev\\behaviors_train.tsv'\n",
    "behavior_file_test = r'D:\\Data\\NR_data\\dev\\behaviors_test.tsv'\n",
    "save_path = 'models/model_param/NPA.model'\n",
    "\n",
    "# if user2id,word2id,news2id hasn't been constructed\n",
    "if not os.path.exists('data/vocab_'+hparams['mode']+'.pkl'):\n",
    "    constructBasicDict(news_file,behavior_file_train,hparams['mode'],['title','category','subcategory'])\n",
    "\n",
    "device = torch.device(hparams['gpu']) if torch.cuda.is_available() else torch.device(\"cpu\")\n",
    "\n",
    "iterator_train = MINDIterator(hparams=hparams,news_file=news_file,behaviors_file=behavior_file_train)\n",
    "\n",
    "# torchtext.Vocab.vocab object\n",
    "vocab = iterator_train.vocab\n",
    "embedding = FastText('simple',cache='.vector_cache')\n",
    "vocab.load_vectors(embedding)"
   ]
  },
  {
   "cell_type": "code",
   "execution_count": 3,
   "metadata": {},
   "outputs": [],
   "source": [
    "# you can load my model or train yours\n",
    "if os.path.exists(save_path):\n",
    "    npaModel = NPAModel(vocab=vocab,hparams=hparams)\n",
    "    npaModel.load_state_dict(torch.load(save_path))\n",
    "    npaModel.to(device).eval()\n",
    "\n",
    "else:\n",
    "    npaModel = NPAModel(vocab=vocab,hparams=hparams).to(device)\n",
    "    npaModel.train()"
   ]
  },
  {
   "cell_type": "markdown",
   "metadata": {},
   "source": [
    "### train model"
   ]
  },
  {
   "cell_type": "code",
   "execution_count": 4,
   "metadata": {},
   "outputs": [
    {
     "output_type": "stream",
     "name": "stderr",
     "text": [
      "epoch 0 , step 100 , total_loss: 1.6368, batch_loss: 1.6072: : 143it [00:05, 25.29it/s]\n",
      "epoch 1 , step 100 , total_loss: 1.6101, batch_loss: 1.6067: : 143it [00:03, 37.54it/s]\n",
      "epoch 2 , step 100 , total_loss: 1.6086, batch_loss: 1.6092: : 143it [00:03, 39.45it/s]\n",
      "epoch 3 , step 100 , total_loss: 1.6075, batch_loss: 1.6172: : 143it [00:03, 40.54it/s]\n",
      "epoch 4 , step 100 , total_loss: 1.6079, batch_loss: 1.6036: : 143it [00:03, 40.74it/s]\n",
      "epoch 5 , step 100 , total_loss: 1.6101, batch_loss: 1.6083: : 143it [00:03, 36.96it/s]\n",
      "epoch 6 , step 100 , total_loss: 1.6079, batch_loss: 1.6073: : 143it [00:03, 38.27it/s]\n",
      "epoch 7 , step 100 , total_loss: 1.6102, batch_loss: 1.6156: : 143it [00:03, 36.08it/s]\n",
      "epoch 8 , step 100 , total_loss: 1.6105, batch_loss: 1.6133: : 143it [00:03, 37.09it/s]\n",
      "epoch 9 , step 100 , total_loss: 1.6093, batch_loss: 1.6175: : 143it [00:03, 38.13it/s]\n"
     ]
    }
   ],
   "source": [
    "if npaModel.training:\n",
    "    loss_func = getLoss(npaModel)\n",
    "    optimizer = optim.Adam(npaModel.parameters(),lr=0.001)\n",
    "\n",
    "    npaModel = run_train(npaModel,iterator_train,optimizer,loss_func)"
   ]
  },
  {
   "cell_type": "markdown",
   "metadata": {},
   "source": [
    "### test & evaluate"
   ]
  },
  {
   "cell_type": "code",
   "execution_count": 5,
   "metadata": {
    "tags": []
   },
   "outputs": [
    {
     "output_type": "execute_result",
     "data": {
      "text/plain": [
       "{'group_auc': 0.5004, 'ndcg@4': 0.168, 'mean_mrr': 0.1901}"
      ]
     },
     "metadata": {},
     "execution_count": 5
    }
   ],
   "source": [
    "iterator_test = MINDIterator(hparams,news_file,behavior_file_test)\n",
    "iterator_test.npratio = -1\n",
    "test = iterator_test.load_data_from_file()\n",
    "\n",
    "npaModel.eval()\n",
    "npaModel.npratio = -1\n",
    "run_eval(npaModel,test)"
   ]
  },
  {
   "cell_type": "markdown",
   "metadata": {},
   "source": [
    "### save the model"
   ]
  },
  {
   "cell_type": "code",
   "execution_count": 6,
   "metadata": {},
   "outputs": [],
   "source": [
    "npaModel.npratio = 4\n",
    "torch.save(npaModel.state_dict(), save_path)"
   ]
  }
 ]
}