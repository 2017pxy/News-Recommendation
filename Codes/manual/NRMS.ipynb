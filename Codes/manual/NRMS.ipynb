{
 "metadata": {
  "language_info": {
   "codemirror_mode": {
    "name": "ipython",
    "version": 3
   },
   "file_extension": ".py",
   "mimetype": "text/x-python",
   "name": "python",
   "nbconvert_exporter": "python",
   "pygments_lexer": "ipython3",
   "version": "3.7.9-final"
  },
  "orig_nbformat": 2,
  "kernelspec": {
   "name": "python37964bit4c03300bedca44f8b0013abe02048abc",
   "display_name": "Python 3.7.9 64-bit",
   "language": "python"
  }
 },
 "nbformat": 4,
 "nbformat_minor": 2,
 "cells": [
  {
   "cell_type": "code",
   "execution_count": 1,
   "metadata": {},
   "outputs": [],
   "source": [
    "import os\n",
    "import sys\n",
    "os.chdir('../')\n",
    "sys.path.append('../')\n",
    "\n",
    "import torch\n",
    "from utils.utils import run_eval,train,prepare\n",
    "from models.NRMS import NRMSModel\n",
    "\n",
    "hparams = {\n",
    "    'mode':'demo',\n",
    "    'name':'nrms',\n",
    "    'batch_size':64,\n",
    "    'title_size':30,\n",
    "    'his_size':50,\n",
    "    'npratio':4,\n",
    "    'dropout_p':0.2,\n",
    "    'query_dim':200,\n",
    "    'embedding_dim':300,\n",
    "    'value_dim':16,\n",
    "    'head_num':16,\n",
    "    'epochs':10,\n",
    "    'metrics':'group_auc,ndcg@5,ndcg@10,mean_mrr',\n",
    "    'device':'cuda:0',\n",
    "    'attrs': ['title'],\n",
    "}"
   ]
  },
  {
   "cell_type": "code",
   "execution_count": 2,
   "metadata": {},
   "outputs": [],
   "source": [
    "save_path = 'models/model_params/{}_{}_{}'.format(hparams['name'],hparams['mode'],hparams['epochs']) +'.model'\n",
    "device = torch.device(hparams['device']) if torch.cuda.is_available() else torch.device(\"cpu\")\n",
    "vocab, loader_train, loader_test, loader_validate = prepare(hparams, validate=True)\n",
    "\n",
    "nrmsModel = NRMSModel(vocab=vocab,hparams=hparams).to(device)"
   ]
  },
  {
   "cell_type": "code",
   "execution_count": 3,
   "metadata": {},
   "outputs": [
    {
     "output_type": "stream",
     "name": "stdout",
     "text": [
      "training...\n",
      "epoch 0 , step 30 , loss: 1.6366: : 31it [00:06,  4.82it/s]\n",
      "epoch 1 , step 30 , loss: 1.6035: : 31it [00:06,  5.12it/s]\n",
      "epoch 2 , step 30 , loss: 1.5935: : 31it [00:05,  5.17it/s]\n",
      "epoch 3 , step 30 , loss: 1.5767: : 31it [00:05,  5.24it/s]\n",
      "epoch 4 , step 30 , loss: 1.5526: : 31it [00:05,  5.27it/s]\n",
      "epoch 5 , step 30 , loss: 1.5173: : 31it [00:06,  5.10it/s]\n",
      "epoch 6 , step 30 , loss: 1.4936: : 31it [00:05,  5.17it/s]\n",
      "epoch 7 , step 30 , loss: 1.4516: : 31it [00:06,  5.15it/s]\n",
      "epoch 8 , step 30 , loss: 1.4393: : 31it [00:06,  5.16it/s]\n",
      "epoch 9 , step 30 , loss: 1.4146: : 31it [00:05,  5.19it/s]\n",
      "0it [00:00, ?it/s]save success!\n",
      "evaluating...\n",
      "282it [00:29,  9.49it/s]\n",
      "evaluation results:{'group_auc': 0.5903, 'ndcg@5': 0.2775, 'ndcg@10': 0.3473, 'mean_mrr': 0.2609}\n"
     ]
    }
   ],
   "source": [
    "train(nrmsModel, hparams, loader_train, loader_test, save_path)"
   ]
  },
  {
   "cell_type": "code",
   "execution_count": null,
   "metadata": {},
   "outputs": [],
   "source": []
  }
 ]
}