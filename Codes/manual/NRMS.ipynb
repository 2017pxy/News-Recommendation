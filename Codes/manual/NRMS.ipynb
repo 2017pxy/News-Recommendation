{
 "metadata": {
  "language_info": {
   "codemirror_mode": {
    "name": "ipython",
    "version": 3
   },
   "file_extension": ".py",
   "mimetype": "text/x-python",
   "name": "python",
   "nbconvert_exporter": "python",
   "pygments_lexer": "ipython3",
   "version": "3.7.9-final"
  },
  "orig_nbformat": 2,
  "kernelspec": {
   "name": "python3",
   "display_name": "Python 3.7.9 64-bit ('nn': conda)",
   "metadata": {
    "interpreter": {
     "hash": "9616ec0cf0e0dd041cba3c8886d471a5cc72bbf20e2c795f4079199200777fdd"
    }
   }
  }
 },
 "nbformat": 4,
 "nbformat_minor": 2,
 "cells": [
  {
   "cell_type": "code",
   "execution_count": 4,
   "metadata": {},
   "outputs": [],
   "source": [
    "import os\n",
    "import sys\n",
    "os.chdir('D:/repositories/News-Recommendation/Codes')\n",
    "sys.path.append('D:/repositories/News-Recommendation/Codes')\n",
    "\n",
    "import math\n",
    "import torch\n",
    "import torch.nn as nn\n",
    "import torch.optim as optim\n",
    "from datetime import datetime\n",
    "from torchtext.vocab import GloVe\n",
    "from torch.utils.data import DataLoader\n",
    "from torch.utils.tensorboard import SummaryWriter\n",
    "from utils.MIND import MIND_iter,MIND_map\n",
    "from utils.utils import getLoss,getLabel,constructBasicDict,run_eval,run_train\n",
    "from models.NRMS import NRMSModel\n",
    "\n",
    "hparams = {\n",
    "    'mode':'demo',\n",
    "    'batch_size':5,\n",
    "    'title_size':20,\n",
    "    'his_size':20,\n",
    "    'npratio':4,\n",
    "    'dropout_p':0.2,\n",
    "    'query_dim':200,\n",
    "    'embedding_dim':300,\n",
    "    'value_dim':16,\n",
    "    'head_num':16,\n",
    "    'kernel_num':11,\n",
    "    'epochs':10,\n",
    "    'metrics':'group_auc,ndcg@5,ndcg@10,mean_mrr',\n",
    "    'gpu':'cuda:0',\n",
    "    'attrs': ['title'],\n",
    "}\n",
    "\n",
    "news_file_train = 'D:/Data/MIND/MIND'+hparams['mode']+'_train/news.tsv'\n",
    "news_file_test = 'D:/Data/MIND/MIND'+hparams['mode']+'_dev/news.tsv'\n",
    "news_file_pair = (news_file_train,news_file_test)\n",
    "\n",
    "behavior_file_train = 'D:/Data/MIND/MIND'+hparams['mode']+'_train/behaviors.tsv'\n",
    "behavior_file_test = 'D:/Data/MIND/MIND'+hparams['mode']+'_dev/behaviors.tsv'\n",
    "behavior_file_pair = (behavior_file_train,behavior_file_test)\n",
    "\n",
    "save_path = 'models/model_params/NRMS_{}_{}'.format(hparams['mode'],hparams['epochs']) +'.model'\n",
    "\n",
    "if not os.path.exists('data/dictionaries/vocab_{}_{}.pkl'.format(hparams['mode'],'_'.join(hparams['attrs']))):\n",
    "    constructBasicDict(news_file_pair,behavior_file_pair,hparams['mode'],hparams['attrs'])\n",
    "\n",
    "device = torch.device(hparams['gpu']) if torch.cuda.is_available() else torch.device(\"cpu\")\n",
    "\n",
    "dataset_train = MIND_map(hparams=hparams,news_file=news_file_train,behaviors_file=behavior_file_train)\n",
    "\n",
    "dataset_test = MIND_iter(hparams=hparams,news_file=news_file_test,behaviors_file=behavior_file_test, mode='test')\n",
    "\n",
    "vocab = dataset_train.vocab\n",
    "embedding = GloVe(dim=300,cache='.vector_cache')\n",
    "vocab.load_vectors(embedding)\n",
    "\n",
    "loader_train = DataLoader(dataset_train,batch_size=hparams['batch_size'],shuffle=True,pin_memory=True,num_workers=3,drop_last=True)\n",
    "loader_test = DataLoader(dataset_test,batch_size=hparams['batch_size'],pin_memory=True,num_workers=0,drop_last=True)"
   ]
  },
  {
   "cell_type": "code",
   "execution_count": 2,
   "metadata": {},
   "outputs": [
    {
     "output_type": "execute_result",
     "data": {
      "text/plain": [
       "NRMSModel(\n",
       "  (softmax): Softmax(dim=-1)\n",
       "  (ReLU): ReLU()\n",
       "  (DropOut): Dropout(p=0.2, inplace=False)\n",
       "  (queryProject_words): ModuleList(\n",
       "    (0): Linear(in_features=300, out_features=300, bias=False)\n",
       "    (1): Linear(in_features=300, out_features=300, bias=False)\n",
       "    (2): Linear(in_features=300, out_features=300, bias=False)\n",
       "    (3): Linear(in_features=300, out_features=300, bias=False)\n",
       "    (4): Linear(in_features=300, out_features=300, bias=False)\n",
       "    (5): Linear(in_features=300, out_features=300, bias=False)\n",
       "    (6): Linear(in_features=300, out_features=300, bias=False)\n",
       "    (7): Linear(in_features=300, out_features=300, bias=False)\n",
       "    (8): Linear(in_features=300, out_features=300, bias=False)\n",
       "    (9): Linear(in_features=300, out_features=300, bias=False)\n",
       "    (10): Linear(in_features=300, out_features=300, bias=False)\n",
       "    (11): Linear(in_features=300, out_features=300, bias=False)\n",
       "    (12): Linear(in_features=300, out_features=300, bias=False)\n",
       "    (13): Linear(in_features=300, out_features=300, bias=False)\n",
       "    (14): Linear(in_features=300, out_features=300, bias=False)\n",
       "    (15): Linear(in_features=300, out_features=300, bias=False)\n",
       "  )\n",
       "  (queryProject_news): ModuleList(\n",
       "    (0): Linear(in_features=256, out_features=256, bias=False)\n",
       "    (1): Linear(in_features=256, out_features=256, bias=False)\n",
       "    (2): Linear(in_features=256, out_features=256, bias=False)\n",
       "    (3): Linear(in_features=256, out_features=256, bias=False)\n",
       "    (4): Linear(in_features=256, out_features=256, bias=False)\n",
       "    (5): Linear(in_features=256, out_features=256, bias=False)\n",
       "    (6): Linear(in_features=256, out_features=256, bias=False)\n",
       "    (7): Linear(in_features=256, out_features=256, bias=False)\n",
       "    (8): Linear(in_features=256, out_features=256, bias=False)\n",
       "    (9): Linear(in_features=256, out_features=256, bias=False)\n",
       "    (10): Linear(in_features=256, out_features=256, bias=False)\n",
       "    (11): Linear(in_features=256, out_features=256, bias=False)\n",
       "    (12): Linear(in_features=256, out_features=256, bias=False)\n",
       "    (13): Linear(in_features=256, out_features=256, bias=False)\n",
       "    (14): Linear(in_features=256, out_features=256, bias=False)\n",
       "    (15): Linear(in_features=256, out_features=256, bias=False)\n",
       "  )\n",
       "  (valueProject_words): ModuleList(\n",
       "    (0): Linear(in_features=300, out_features=16, bias=False)\n",
       "    (1): Linear(in_features=300, out_features=16, bias=False)\n",
       "    (2): Linear(in_features=300, out_features=16, bias=False)\n",
       "    (3): Linear(in_features=300, out_features=16, bias=False)\n",
       "    (4): Linear(in_features=300, out_features=16, bias=False)\n",
       "    (5): Linear(in_features=300, out_features=16, bias=False)\n",
       "    (6): Linear(in_features=300, out_features=16, bias=False)\n",
       "    (7): Linear(in_features=300, out_features=16, bias=False)\n",
       "    (8): Linear(in_features=300, out_features=16, bias=False)\n",
       "    (9): Linear(in_features=300, out_features=16, bias=False)\n",
       "    (10): Linear(in_features=300, out_features=16, bias=False)\n",
       "    (11): Linear(in_features=300, out_features=16, bias=False)\n",
       "    (12): Linear(in_features=300, out_features=16, bias=False)\n",
       "    (13): Linear(in_features=300, out_features=16, bias=False)\n",
       "    (14): Linear(in_features=300, out_features=16, bias=False)\n",
       "    (15): Linear(in_features=300, out_features=16, bias=False)\n",
       "  )\n",
       "  (valueProject_news): ModuleList(\n",
       "    (0): Linear(in_features=256, out_features=16, bias=False)\n",
       "    (1): Linear(in_features=256, out_features=16, bias=False)\n",
       "    (2): Linear(in_features=256, out_features=16, bias=False)\n",
       "    (3): Linear(in_features=256, out_features=16, bias=False)\n",
       "    (4): Linear(in_features=256, out_features=16, bias=False)\n",
       "    (5): Linear(in_features=256, out_features=16, bias=False)\n",
       "    (6): Linear(in_features=256, out_features=16, bias=False)\n",
       "    (7): Linear(in_features=256, out_features=16, bias=False)\n",
       "    (8): Linear(in_features=256, out_features=16, bias=False)\n",
       "    (9): Linear(in_features=256, out_features=16, bias=False)\n",
       "    (10): Linear(in_features=256, out_features=16, bias=False)\n",
       "    (11): Linear(in_features=256, out_features=16, bias=False)\n",
       "    (12): Linear(in_features=256, out_features=16, bias=False)\n",
       "    (13): Linear(in_features=256, out_features=16, bias=False)\n",
       "    (14): Linear(in_features=256, out_features=16, bias=False)\n",
       "    (15): Linear(in_features=256, out_features=16, bias=False)\n",
       "  )\n",
       "  (keyProject_words): Linear(in_features=256, out_features=200, bias=True)\n",
       "  (keyProject_news): Linear(in_features=256, out_features=200, bias=True)\n",
       "  (learningToRank): Linear(in_features=256, out_features=1, bias=True)\n",
       ")"
      ]
     },
     "metadata": {},
     "execution_count": 2
    }
   ],
   "source": [
    "nrmsModel = NRMSModel(vocab=vocab,hparams=hparams).to(device)\n",
    "nrmsModel.load_state_dict(torch.load(save_path))\n",
    "nrmsModel.eval()\n",
    "\n",
    "# nrmsModel = NRMSModel(vocab=vocab,hparams=hparams).to(device)\n",
    "# nrmsModel.train()"
   ]
  },
  {
   "cell_type": "code",
   "execution_count": 3,
   "metadata": {},
   "outputs": [
    {
     "output_type": "stream",
     "name": "stdout",
     "text": [
      "training...\n",
      "epoch 0 , step 390 , loss: 1.5753: : 400it [00:36, 11.06it/s]\n",
      "epoch 1 , step 390 , loss: 1.5107: : 400it [00:34, 11.54it/s]\n",
      "epoch 2 , step 390 , loss: 1.4434: : 400it [00:35, 11.42it/s]\n",
      "epoch 3 , step 390 , loss: 1.3614: : 400it [00:35, 11.17it/s]\n",
      "epoch 4 , step 390 , loss: 1.3103: : 400it [00:35, 11.29it/s]\n",
      "epoch 5 , step 390 , loss: 1.1887: : 400it [00:34, 11.52it/s]\n",
      "epoch 6 , step 390 , loss: 1.0855: : 400it [00:34, 11.43it/s]\n",
      "epoch 7 , step 390 , loss: 0.9370: : 400it [00:35, 11.35it/s]\n",
      "epoch 8 , step 390 , loss: 0.8366: : 400it [00:35, 11.30it/s]\n",
      "epoch 9 , step 390 , loss: 0.6243: : 400it [00:34, 11.43it/s]\n"
     ]
    }
   ],
   "source": [
    "if nrmsModel.training:\n",
    "    print(\"training...\")\n",
    "    loss_func = getLoss(nrmsModel)\n",
    "    optimizer = optim.Adam(nrmsModel.parameters(),lr=0.001)\n",
    "    nrmsModel = run_train(nrmsModel,loader_train,optimizer,loss_func,epochs=hparams['epochs'], interval=10)"
   ]
  },
  {
   "cell_type": "code",
   "execution_count": 5,
   "metadata": {},
   "outputs": [
    {
     "output_type": "stream",
     "name": "stderr",
     "text": [
      "0it [00:00, ?it/s]evaluating...\n",
      "2191it [01:26, 25.34it/s]\n"
     ]
    },
    {
     "output_type": "execute_result",
     "data": {
      "text/plain": [
       "{'group_auc': 0.5452, 'ndcg@5': 0.2576, 'ndcg@10': 0.3175, 'mean_mrr': 0.239}"
      ]
     },
     "metadata": {},
     "execution_count": 5
    }
   ],
   "source": [
    "print(\"evaluating...\")\n",
    "nrmsModel.eval()\n",
    "nrmsModel.cdd_size = 1\n",
    "run_eval(nrmsModel,loader_test)"
   ]
  },
  {
   "cell_type": "code",
   "execution_count": 9,
   "metadata": {},
   "outputs": [],
   "source": [
    "nrmsModel.cdd_size = 5\n",
    "torch.save(nrmsModel.state_dict(), save_path)"
   ]
  }
 ]
}