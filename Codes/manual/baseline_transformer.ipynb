{
 "metadata": {
  "language_info": {
   "codemirror_mode": {
    "name": "ipython",
    "version": 3
   },
   "file_extension": ".py",
   "mimetype": "text/x-python",
   "name": "python",
   "nbconvert_exporter": "python",
   "pygments_lexer": "ipython3",
   "version": "3.7.9-final"
  },
  "orig_nbformat": 2,
  "kernelspec": {
   "name": "python37964bit4c03300bedca44f8b0013abe02048abc",
   "display_name": "Python 3.7.9 64-bit",
   "language": "python"
  }
 },
 "nbformat": 4,
 "nbformat_minor": 2,
 "cells": [
  {
   "cell_type": "code",
   "execution_count": 1,
   "metadata": {},
   "outputs": [],
   "source": [
    "import os\n",
    "import sys\n",
    "os.chdir('/home/peitian_zhang/Codes/NR')\n",
    "sys.path.append('/home/peitian_zhang/Codes/NR')\n",
    "\n",
    "import torch\n",
    "from utils.utils import run_eval,train,prepare\n",
    "from models.baseline_transformer import GCAModel"
   ]
  },
  {
   "cell_type": "code",
   "execution_count": 2,
   "metadata": {},
   "outputs": [],
   "source": [
    "hparams = {\n",
    "    'mode':'demo',\n",
    "    'name':'baseline-transformer',\n",
    "    'train_embedding':False,\n",
    "    'batch_size':5,\n",
    "    'title_size':20,\n",
    "    'his_size':15,\n",
    "    'npratio':4,\n",
    "    'dropout_p':0.2,\n",
    "    'query_dim':200,\n",
    "    'embedding_dim':300,\n",
    "    'value_dim':16,\n",
    "    'head_num':16,\n",
    "    'kernel_num':11,\n",
    "    'epochs':10,\n",
    "    'metrics':'group_auc,ndcg@5,ndcg@10,mean_mrr',\n",
    "    'device':'cuda:0',\n",
    "    'attrs': ['title'],\n",
    "}\n",
    "\n",
    "save_path = 'models/model_params/{}_{}_{}'.format(hparams['name'],hparams['mode'],hparams['epochs']) +'.model'\n",
    "device = torch.device(hparams['device']) if torch.cuda.is_available() else torch.device(\"cpu\")\n",
    "\n",
    "vocab, loader_train, loader_test, loader_validate = prepare(hparams, validate=True)"
   ]
  },
  {
   "cell_type": "code",
   "execution_count": 3,
   "metadata": {},
   "outputs": [],
   "source": [
    "gcaModel = GCAModel(vocab=vocab,hparams=hparams).to(device)\n",
    "# gcaModel.train()"
   ]
  },
  {
   "cell_type": "code",
   "execution_count": 4,
   "metadata": {},
   "outputs": [
    {
     "output_type": "stream",
     "name": "stdout",
     "text": [
      "training...\n",
      "epoch 0 , step 390 , loss: 1.5712: : 400it [00:12, 31.15it/s]\n",
      "epoch 1 , step 390 , loss: 1.5229: : 400it [00:12, 32.53it/s]\n",
      "epoch 2 , step 390 , loss: 1.4926: : 400it [00:12, 32.01it/s]\n",
      "epoch 3 , step 390 , loss: 1.4764: : 400it [00:11, 33.54it/s]\n",
      "epoch 4 , step 390 , loss: 1.4461: : 400it [00:12, 31.38it/s]\n",
      "epoch 5 , step 390 , loss: 1.4190: : 400it [00:12, 30.82it/s]\n",
      "epoch 6 , step 390 , loss: 1.3810: : 400it [00:12, 32.32it/s]\n",
      "epoch 7 , step 390 , loss: 1.3200: : 400it [00:12, 33.00it/s]\n",
      "epoch 8 , step 390 , loss: 1.2684: : 400it [00:12, 31.84it/s]\n",
      "epoch 9 , step 390 , loss: 1.2077: : 400it [00:12, 33.14it/s]\n",
      "0it [00:00, ?it/s]save success!\n",
      "evaluating...\n",
      "3622it [00:22, 160.80it/s]\n",
      "0it [00:00, ?it/s]evaluation results:{'group_auc': 0.5704, 'ndcg@5': 0.2625, 'ndcg@10': 0.3267, 'mean_mrr': 0.2458}\n",
      "validating...\n",
      "15062it [01:30, 166.48it/s]\n",
      "evaluation results:{'group_auc': 0.7748, 'ndcg@5': 0.4567, 'ndcg@10': 0.5119, 'mean_mrr': 0.4199}\n"
     ]
    }
   ],
   "source": [
    "train(gcaModel, hparams, loader_train, loader_test, save_path, loader_validate)"
   ]
  },
  {
   "cell_type": "code",
   "execution_count": null,
   "metadata": {},
   "outputs": [],
   "source": []
  }
 ]
}