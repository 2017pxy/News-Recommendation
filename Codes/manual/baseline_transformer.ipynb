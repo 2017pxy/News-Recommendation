{
 "metadata": {
  "language_info": {
   "codemirror_mode": {
    "name": "ipython",
    "version": 3
   },
   "file_extension": ".py",
   "mimetype": "text/x-python",
   "name": "python",
   "nbconvert_exporter": "python",
   "pygments_lexer": "ipython3",
   "version": "3.7.9-final"
  },
  "orig_nbformat": 2,
  "kernelspec": {
   "name": "python37964bit4c03300bedca44f8b0013abe02048abc",
   "display_name": "Python 3.7.9 64-bit",
   "language": "python"
  }
 },
 "nbformat": 4,
 "nbformat_minor": 2,
 "cells": [
  {
   "cell_type": "code",
   "execution_count": 5,
   "metadata": {},
   "outputs": [],
   "source": [
    "import os\n",
    "import sys\n",
    "os.chdir('../')\n",
    "sys.path.append('../')\n",
    "\n",
    "import torch\n",
    "from utils.utils import run_eval,train,prepare\n",
    "from models.baseline_transformer import GCAModel\n",
    "\n",
    "hparams = {\n",
    "    'mode':'demo',\n",
    "    'name':'baseline-transformer',\n",
    "    'train_embedding':False,\n",
    "    'batch_size':32,\n",
    "    'title_size':20,\n",
    "    'his_size':30,\n",
    "    'npratio':4,\n",
    "    'dropout_p':0.2,\n",
    "    'query_dim':200,\n",
    "    'embedding_dim':300,\n",
    "    'value_dim':16,\n",
    "    'head_num':16,\n",
    "    'epochs':5,\n",
    "    'metrics':'group_auc,ndcg@5,ndcg@10,mean_mrr',\n",
    "    'device':'cuda:1',\n",
    "    'attrs': ['title'],\n",
    "}\n",
    "save_path = 'models/model_params/{}_{}_{}'.format(hparams['name'],hparams['mode'],hparams['epochs']) +'.model'\n",
    "device = torch.device(hparams['device']) if torch.cuda.is_available() else torch.device(\"cpu\")"
   ]
  },
  {
   "cell_type": "code",
   "execution_count": 7,
   "metadata": {},
   "outputs": [],
   "source": [
    "vocab, loader_train, loader_test, loader_validate = prepare(hparams, validate=True)"
   ]
  },
  {
   "cell_type": "code",
   "execution_count": 8,
   "metadata": {},
   "outputs": [
    {
     "output_type": "execute_result",
     "data": {
      "text/plain": [
       "GCAModel(\n",
       "  (softmax): Softmax(dim=-1)\n",
       "  (ReLU): ReLU()\n",
       "  (DropOut): Dropout(p=0.2, inplace=False)\n",
       "  (CosSim): CosineSimilarity()\n",
       "  (queryProject_words): ModuleList(\n",
       "    (0): Linear(in_features=300, out_features=300, bias=False)\n",
       "    (1): Linear(in_features=300, out_features=300, bias=False)\n",
       "    (2): Linear(in_features=300, out_features=300, bias=False)\n",
       "    (3): Linear(in_features=300, out_features=300, bias=False)\n",
       "    (4): Linear(in_features=300, out_features=300, bias=False)\n",
       "    (5): Linear(in_features=300, out_features=300, bias=False)\n",
       "    (6): Linear(in_features=300, out_features=300, bias=False)\n",
       "    (7): Linear(in_features=300, out_features=300, bias=False)\n",
       "    (8): Linear(in_features=300, out_features=300, bias=False)\n",
       "    (9): Linear(in_features=300, out_features=300, bias=False)\n",
       "    (10): Linear(in_features=300, out_features=300, bias=False)\n",
       "    (11): Linear(in_features=300, out_features=300, bias=False)\n",
       "    (12): Linear(in_features=300, out_features=300, bias=False)\n",
       "    (13): Linear(in_features=300, out_features=300, bias=False)\n",
       "    (14): Linear(in_features=300, out_features=300, bias=False)\n",
       "    (15): Linear(in_features=300, out_features=300, bias=False)\n",
       "  )\n",
       "  (valueProject_words): ModuleList(\n",
       "    (0): Linear(in_features=300, out_features=16, bias=False)\n",
       "    (1): Linear(in_features=300, out_features=16, bias=False)\n",
       "    (2): Linear(in_features=300, out_features=16, bias=False)\n",
       "    (3): Linear(in_features=300, out_features=16, bias=False)\n",
       "    (4): Linear(in_features=300, out_features=16, bias=False)\n",
       "    (5): Linear(in_features=300, out_features=16, bias=False)\n",
       "    (6): Linear(in_features=300, out_features=16, bias=False)\n",
       "    (7): Linear(in_features=300, out_features=16, bias=False)\n",
       "    (8): Linear(in_features=300, out_features=16, bias=False)\n",
       "    (9): Linear(in_features=300, out_features=16, bias=False)\n",
       "    (10): Linear(in_features=300, out_features=16, bias=False)\n",
       "    (11): Linear(in_features=300, out_features=16, bias=False)\n",
       "    (12): Linear(in_features=300, out_features=16, bias=False)\n",
       "    (13): Linear(in_features=300, out_features=16, bias=False)\n",
       "    (14): Linear(in_features=300, out_features=16, bias=False)\n",
       "    (15): Linear(in_features=300, out_features=16, bias=False)\n",
       "  )\n",
       "  (keyProject_words): Linear(in_features=256, out_features=200, bias=True)\n",
       "  (learningToRank): Linear(in_features=256, out_features=1, bias=True)\n",
       ")"
      ]
     },
     "metadata": {},
     "execution_count": 8
    }
   ],
   "source": [
    "gcaModel = GCAModel(vocab=vocab,hparams=hparams).to(device)\n",
    "gcaModel.train()"
   ]
  },
  {
   "cell_type": "code",
   "execution_count": 9,
   "metadata": {},
   "outputs": [
    {
     "output_type": "stream",
     "name": "stdout",
     "text": [
      "training...\n",
      "epoch 0 , step 60 , loss: 1.6375: : 62it [00:17,  3.56it/s]\n",
      "epoch 1 , step 60 , loss: 1.5429: : 62it [00:17,  3.55it/s]\n",
      "epoch 2 , step 60 , loss: 1.5262: : 62it [00:17,  3.56it/s]\n",
      "epoch 3 , step 60 , loss: 1.5111: : 62it [00:17,  3.55it/s]\n",
      "epoch 4 , step 60 , loss: 1.4971: : 62it [00:17,  3.55it/s]\n",
      "0it [00:00, ?it/s]save success!\n",
      "test...\n",
      "565it [00:21, 26.66it/s]\n",
      "0it [00:00, ?it/s]evaluation results:{'group_auc': 0.5609, 'ndcg@5': 0.2668, 'ndcg@10': 0.3279, 'mean_mrr': 0.2473}\n",
      "validating...\n",
      "2353it [01:24, 27.87it/s]\n",
      "evaluation results:{'group_auc': 0.6381, 'ndcg@5': 0.3386, 'ndcg@10': 0.3993, 'mean_mrr': 0.3195}\n"
     ]
    }
   ],
   "source": [
    "train(gcaModel, hparams, loader_train, loader_test, save_path, loader_validate)"
   ]
  },
  {
   "cell_type": "code",
   "execution_count": null,
   "metadata": {},
   "outputs": [],
   "source": []
  }
 ]
}