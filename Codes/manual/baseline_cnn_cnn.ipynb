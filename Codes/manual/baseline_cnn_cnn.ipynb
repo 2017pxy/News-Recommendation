{
 "metadata": {
  "language_info": {
   "codemirror_mode": {
    "name": "ipython",
    "version": 3
   },
   "file_extension": ".py",
   "mimetype": "text/x-python",
   "name": "python",
   "nbconvert_exporter": "python",
   "pygments_lexer": "ipython3",
   "version": "3.7.9-final"
  },
  "orig_nbformat": 2,
  "kernelspec": {
   "name": "python37964bit4c03300bedca44f8b0013abe02048abc",
   "display_name": "Python 3.7.9 64-bit",
   "language": "python"
  }
 },
 "nbformat": 4,
 "nbformat_minor": 2,
 "cells": [
  {
   "source": [
    "### BenchMark in Interaction baselines, FIM excluded"
   ],
   "cell_type": "markdown",
   "metadata": {}
  },
  {
   "cell_type": "code",
   "execution_count": 1,
   "metadata": {},
   "outputs": [],
   "source": [
    "import os\n",
    "import sys\n",
    "os.chdir('../')\n",
    "sys.path.append('../')\n",
    "\n",
    "import torch\n",
    "from utils.utils import evaluate,train,prepare\n",
    "from models.baseline_CNN_CNN import GCAModel"
   ]
  },
  {
   "cell_type": "code",
   "execution_count": 2,
   "metadata": {},
   "outputs": [],
   "source": [
    "hparams = {\n",
    "    'scale':'demo',\n",
    "    'name':'baseline-cnn-cnn',\n",
    "    'batch_size':10,\n",
    "    'title_size':30,\n",
    "    'his_size':50,\n",
    "    'npratio':4,\n",
    "    'dropout_p':0.2,\n",
    "    'query_dim':200,\n",
    "    'embedding_dim':300,\n",
    "    'filter_num':400,\n",
    "    'value_dim':16,\n",
    "    'head_num':16,\n",
    "    'epochs':5,\n",
    "    'metrics':'group_auc,ndcg@5,ndcg@10,mean_mrr',\n",
    "    'device':'cuda:0',\n",
    "    'attrs': ['title'],\n",
    "    'save_each_epoch':False,\n",
    "    'save_step':None,\n",
    "    'train_embedding':False,\n",
    "}\n",
    "\n",
    "device = torch.device(hparams['device']) if torch.cuda.is_available() else torch.device(\"cpu\")"
   ]
  },
  {
   "cell_type": "code",
   "execution_count": 3,
   "metadata": {},
   "outputs": [],
   "source": [
    "vocab, loader_train, loader_test, loader_validate = prepare(hparams, validate=True)"
   ]
  },
  {
   "cell_type": "code",
   "execution_count": 5,
   "metadata": {},
   "outputs": [],
   "source": [
    "gcaModel = GCAModel(hparams, vocab=vocab).to(device)"
   ]
  },
  {
   "cell_type": "code",
   "execution_count": 6,
   "metadata": {},
   "outputs": [
    {
     "output_type": "stream",
     "name": "stdout",
     "text": [
      "training...\n",
      "epoch 0 , step 0 , loss: inf: : 3it [00:01,  1.25it/s]saved model of step 0\n",
      "epoch 0 , step 190 , loss: 1.5705: : 200it [00:14, 13.40it/s]\n",
      "epoch 1 , step 0 , loss: inf: : 4it [00:00,  8.10it/s]saved model of step 0\n",
      "epoch 1 , step 190 , loss: 1.4817: : 200it [00:13, 14.31it/s]\n",
      "epoch 2 , step 0 , loss: inf: : 3it [00:00,  5.96it/s]saved model of step 0\n",
      "epoch 2 , step 190 , loss: 1.4081: : 200it [00:14, 14.20it/s]\n",
      "epoch 3 , step 0 , loss: inf: : 3it [00:00,  6.83it/s]saved model of step 0\n",
      "epoch 3 , step 190 , loss: 1.3359: : 200it [00:13, 14.31it/s]\n",
      "epoch 4 , step 0 , loss: inf: : 3it [00:00,  8.39it/s]saved model of step 0\n",
      "epoch 4 , step 190 , loss: 1.2384: : 200it [00:13, 14.35it/s]\n",
      "0it [00:00, ?it/s]save success!\n",
      "testing...\n",
      "1811it [00:26, 68.27it/s]\n",
      "0it [00:00, ?it/s]evaluation results:{'group_auc': 0.5748, 'ndcg@5': 0.2764, 'ndcg@10': 0.3446, 'mean_mrr': 0.2609}\n",
      "validating...\n",
      "7531it [01:45, 71.21it/s]\n",
      "evaluation results:{'group_auc': 0.7886, 'ndcg@5': 0.5029, 'ndcg@10': 0.5505, 'mean_mrr': 0.4602}\n"
     ]
    }
   ],
   "source": [
    "train(gcaModel, hparams, loader_train, loader_test, loader_validate, save=False)"
   ]
  },
  {
   "cell_type": "code",
   "execution_count": null,
   "metadata": {},
   "outputs": [],
   "source": []
  }
 ]
}