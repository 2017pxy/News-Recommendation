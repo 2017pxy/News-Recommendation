{
 "metadata": {
  "language_info": {
   "codemirror_mode": {
    "name": "ipython",
    "version": 3
   },
   "file_extension": ".py",
   "mimetype": "text/x-python",
   "name": "python",
   "nbconvert_exporter": "python",
   "pygments_lexer": "ipython3",
   "version": "3.7.9-final"
  },
  "orig_nbformat": 2,
  "kernelspec": {
   "name": "python37964bit4c03300bedca44f8b0013abe02048abc",
   "display_name": "Python 3.7.9 64-bit",
   "language": "python"
  }
 },
 "nbformat": 4,
 "nbformat_minor": 2,
 "cells": [
  {
   "cell_type": "code",
   "execution_count": 1,
   "metadata": {},
   "outputs": [],
   "source": [
    "import os\n",
    "import sys\n",
    "os.chdir('../')\n",
    "sys.path.append('../')\n",
    "\n",
    "import torch\n",
    "from utils.utils import run_eval,train,prepare\n",
    "from models.KNRM import KNRMModel\n",
    "\n",
    "hparams = {\n",
    "    'mode':'demo',\n",
    "    'name':'knrm',\n",
    "    'train_embedding': True,\n",
    "    'save_each_epoch':False,\n",
    "    'epochs':7,\n",
    "    'batch_size':50,\n",
    "    'title_size':20,\n",
    "    'his_size':50,\n",
    "    'npratio':4,\n",
    "    'embedding_dim':300,\n",
    "    'metrics':'group_auc,ndcg@5,ndcg@10,mean_mrr',\n",
    "    'device':'cuda:0',\n",
    "    'attrs': ['title'],\n",
    "}"
   ]
  },
  {
   "cell_type": "code",
   "execution_count": 2,
   "metadata": {},
   "outputs": [],
   "source": [
    "save_path = 'models/model_params/{}_{}_{}'.format(hparams['name'],hparams['mode'],hparams['epochs']) +'.model'\n",
    "device = torch.device(hparams['device']) if torch.cuda.is_available() else torch.device(\"cpu\")\n",
    "\n",
    "vocab, loader_train, loader_test, loader_validate = prepare(hparams, validate=True)\n",
    "knrmModel = KNRMModel(vocab=vocab,hparams=hparams).to(device)"
   ]
  },
  {
   "cell_type": "code",
   "execution_count": 3,
   "metadata": {},
   "outputs": [
    {
     "output_type": "stream",
     "name": "stdout",
     "text": [
      "training...\n",
      "epoch 0 , step 30 , loss: 1.6539: : 40it [00:05,  6.98it/s]\n",
      "epoch 1 , step 30 , loss: 1.6383: : 40it [00:05,  7.58it/s]\n",
      "epoch 2 , step 30 , loss: 1.6375: : 40it [00:05,  7.69it/s]\n",
      "epoch 3 , step 30 , loss: 1.6461: : 40it [00:05,  7.73it/s]\n",
      "epoch 4 , step 30 , loss: 1.6426: : 40it [00:05,  7.62it/s]\n",
      "epoch 5 , step 30 , loss: 1.6429: : 40it [00:05,  7.78it/s]\n",
      "epoch 6 , step 30 , loss: 1.6389: : 40it [00:05,  7.03it/s]\n",
      "0it [00:00, ?it/s]save success!\n",
      "testing...\n",
      "362it [00:09, 39.57it/s]\n",
      "0it [00:00, ?it/s]evaluation results:{'group_auc': 0.5249, 'ndcg@5': 0.254, 'ndcg@10': 0.3151, 'mean_mrr': 0.2373}\n",
      "validating...\n",
      "1506it [00:35, 42.38it/s]\n",
      "evaluation results:{'group_auc': 0.511, 'ndcg@5': 0.2368, 'ndcg@10': 0.2972, 'mean_mrr': 0.2306}\n"
     ]
    }
   ],
   "source": [
    "train(knrmModel, hparams, loader_train, loader_test, save_path, loader_validate)"
   ]
  },
  {
   "cell_type": "code",
   "execution_count": null,
   "metadata": {},
   "outputs": [],
   "source": []
  }
 ]
}