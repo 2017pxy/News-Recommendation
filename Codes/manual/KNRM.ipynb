{
 "metadata": {
  "language_info": {
   "codemirror_mode": {
    "name": "ipython",
    "version": 3
   },
   "file_extension": ".py",
   "mimetype": "text/x-python",
   "name": "python",
   "nbconvert_exporter": "python",
   "pygments_lexer": "ipython3",
   "version": "3.7.9-final"
  },
  "orig_nbformat": 2,
  "kernelspec": {
   "name": "python37964bit4c03300bedca44f8b0013abe02048abc",
   "display_name": "Python 3.7.9 64-bit",
   "language": "python"
  }
 },
 "nbformat": 4,
 "nbformat_minor": 2,
 "cells": [
  {
   "cell_type": "code",
   "execution_count": 2,
   "metadata": {},
   "outputs": [],
   "source": [
    "import os\n",
    "import sys\n",
    "os.chdir('/home/peitian_zhang/Codes/NR')\n",
    "sys.path.append('/home/peitian_zhang/Codes/NR')\n",
    "\n",
    "import torch\n",
    "from utils.utils import run_eval,train,prepare\n",
    "from models.KNRM import KNRMModel\n",
    "\n",
    "hparams = {\n",
    "    'mode':'demo',\n",
    "    'name':'knrm',\n",
    "    'train_embedding': False,\n",
    "    'save_each_epoch':False,\n",
    "    'epochs':10,\n",
    "    'batch_size':100,\n",
    "    'title_size':20,\n",
    "    'his_size':50,\n",
    "    'npratio':4,\n",
    "    'embedding_dim':300,\n",
    "    'metrics':'group_auc,ndcg@5,ndcg@10,mean_mrr',\n",
    "    'device':'cuda:0',\n",
    "    'attrs': ['title'],\n",
    "}"
   ]
  },
  {
   "cell_type": "code",
   "execution_count": 3,
   "metadata": {},
   "outputs": [],
   "source": [
    "save_path = 'models/model_params/{}_{}_{}'.format(hparams['name'],hparams['mode'],hparams['epochs']) +'.model'\n",
    "device = torch.device(hparams['device']) if torch.cuda.is_available() else torch.device(\"cpu\")\n",
    "\n",
    "vocab, loader_train, loader_test, loader_validate = prepare(hparams, validate=True)\n",
    "knrmModel = KNRMModel(vocab=vocab,hparams=hparams).to(device)"
   ]
  },
  {
   "cell_type": "code",
   "execution_count": 4,
   "metadata": {},
   "outputs": [
    {
     "output_type": "stream",
     "name": "stdout",
     "text": [
      "training...\n",
      "save each epoch\n",
      "epoch 0 , step 10 , loss: 1.7495: : 20it [00:01, 11.46it/s]saved model of epoch 1\n",
      "\n",
      "epoch 1 , step 10 , loss: 1.7534: : 20it [00:01, 16.77it/s]saved model of epoch 2\n",
      "\n",
      "epoch 2 , step 10 , loss: 1.7535: : 20it [00:01, 15.49it/s]saved model of epoch 3\n",
      "\n",
      "epoch 3 , step 10 , loss: 1.7480: : 20it [00:00, 23.00it/s]saved model of epoch 4\n",
      "\n",
      "epoch 4 , step 10 , loss: 1.7489: : 20it [00:00, 21.48it/s]saved model of epoch 5\n",
      "\n",
      "epoch 5 , step 10 , loss: 1.7526: : 20it [00:00, 22.24it/s]saved model of epoch 6\n",
      "\n",
      "epoch 6 , step 10 , loss: 1.7503: : 20it [00:00, 22.25it/s]saved model of epoch 7\n",
      "\n",
      "epoch 7 , step 10 , loss: 1.7423: : 20it [00:00, 21.51it/s]saved model of epoch 8\n",
      "\n",
      "epoch 8 , step 10 , loss: 1.7466: : 20it [00:00, 22.02it/s]saved model of epoch 9\n",
      "\n",
      "epoch 9 , step 10 , loss: 1.7499: : 20it [00:00, 20.28it/s]\n",
      "0it [00:00, ?it/s]saved model of epoch 10\n",
      "save success!\n",
      "evaluating...\n",
      "181it [00:08, 21.21it/s]\n",
      "0it [00:00, ?it/s]evaluation results:{'group_auc': 0.5363, 'ndcg@5': 0.2621, 'ndcg@10': 0.3185, 'mean_mrr': 0.2441}\n",
      "validating...\n",
      "753it [00:28, 26.28it/s]\n",
      "evaluation results:{'group_auc': 0.5192, 'ndcg@5': 0.2434, 'ndcg@10': 0.3046, 'mean_mrr': 0.2364}\n"
     ]
    }
   ],
   "source": [
    "train(knrmModel, hparams, loader_train, loader_test, save_path, loader_validate)"
   ]
  },
  {
   "cell_type": "code",
   "execution_count": null,
   "metadata": {},
   "outputs": [],
   "source": []
  }
 ]
}