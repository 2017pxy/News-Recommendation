{
 "metadata": {
  "language_info": {
   "codemirror_mode": {
    "name": "ipython",
    "version": 3
   },
   "file_extension": ".py",
   "mimetype": "text/x-python",
   "name": "python",
   "nbconvert_exporter": "python",
   "pygments_lexer": "ipython3",
   "version": "3.7.9-final"
  },
  "orig_nbformat": 2,
  "kernelspec": {
   "name": "python37964bit4c03300bedca44f8b0013abe02048abc",
   "display_name": "Python 3.7.9 64-bit",
   "language": "python"
  }
 },
 "nbformat": 4,
 "nbformat_minor": 2,
 "cells": [
  {
   "cell_type": "code",
   "execution_count": 8,
   "metadata": {},
   "outputs": [],
   "source": [
    "import os\n",
    "import sys\n",
    "os.chdir('/home/peitian_zhang/Codes/NR')\n",
    "sys.path.append('/home/peitian_zhang/Codes/NR')\n",
    "\n",
    "import math\n",
    "import torch\n",
    "import torch.nn as nn\n",
    "import torch.optim as optim\n",
    "from datetime import datetime\n",
    "from torchtext.vocab import GloVe\n",
    "from torch.utils.data import DataLoader\n",
    "from torch.utils.tensorboard import SummaryWriter\n",
    "from utils.MIND import MIND_iter,MIND_map\n",
    "from utils.utils import getLoss,getLabel,constructBasicDict,run_eval,run_train\n",
    "from models.KNRM import KNRMModel\n",
    "\n",
    "hparams = {\n",
    "    'mode':'demo',\n",
    "    'name':'knrm',\n",
    "    'train_embedding':False,\n",
    "    'epochs':10,\n",
    "    'batch_size':5,\n",
    "    'title_size':15,\n",
    "    'his_size':50,\n",
    "    'npratio':4,\n",
    "    'embedding_dim':300,\n",
    "    'metrics':'group_auc,ndcg@5,ndcg@10,mean_mrr',\n",
    "    'device':'cuda:1',\n",
    "    'attrs': ['title'],\n",
    "}\n",
    "\n",
    "news_file_train = '/home/peitian_zhang/Data/MIND/MIND'+hparams['mode']+'_train/news.tsv'\n",
    "news_file_test = '/home/peitian_zhang/Data/MIND/MIND'+hparams['mode']+'_dev/news.tsv'\n",
    "news_file_pair = (news_file_train,news_file_test)\n",
    "\n",
    "behavior_file_train = '/home/peitian_zhang/Data/MIND/MIND'+hparams['mode']+'_train/behaviors.tsv'\n",
    "behavior_file_test = '/home/peitian_zhang/Data/MIND/MIND'+hparams['mode']+'_dev/behaviors.tsv'\n",
    "behavior_file_pair = (behavior_file_train,behavior_file_test)\n",
    "\n",
    "save_path = 'models/model_params/{}_{}_{}'.format(hparams['name'],hparams['mode'],hparams['epochs']) +'.model'\n",
    "\n",
    "if not os.path.exists('data/dictionaries/vocab_{}_{}.pkl'.format(hparams['mode'],'_'.join(hparams['attrs']))):\n",
    "    constructBasicDict(news_file_pair,behavior_file_pair,hparams['mode'],hparams['attrs'])\n",
    "\n",
    "device = torch.device(hparams['device']) if torch.cuda.is_available() else torch.device(\"cpu\")\n",
    "\n",
    "dataset_train = MIND_map(hparams=hparams,news_file=news_file_train,behaviors_file=behavior_file_train)\n",
    "dataset_test = MIND_iter(hparams=hparams,news_file=news_file_test,behaviors_file=behavior_file_test, mode='test')\n",
    "\n",
    "vocab = dataset_train.vocab\n",
    "embedding = GloVe(dim=300,cache='.vector_cache')\n",
    "vocab.load_vectors(embedding)\n",
    "\n",
    "loader_train = DataLoader(dataset_train,batch_size=hparams['batch_size'],shuffle=True,pin_memory=True,num_workers=3,drop_last=True)\n",
    "loader_test = DataLoader(dataset_test,batch_size=hparams['batch_size'],pin_memory=True,num_workers=0,drop_last=True)"
   ]
  },
  {
   "cell_type": "code",
   "execution_count": 5,
   "metadata": {},
   "outputs": [
    {
     "output_type": "execute_result",
     "data": {
      "text/plain": [
       "KNRMModel(\n",
       "  (CosSim): CosineSimilarity()\n",
       "  (softmax): Softmax(dim=-1)\n",
       "  (learningToRank): Linear(in_features=1000, out_features=1, bias=True)\n",
       ")"
      ]
     },
     "metadata": {},
     "execution_count": 5
    }
   ],
   "source": [
    "knrmModel = KNRMModel(hparams=hparams,vocab=vocab).to(device)\n",
    "knrmModel.train()"
   ]
  },
  {
   "cell_type": "code",
   "execution_count": 6,
   "metadata": {},
   "outputs": [
    {
     "output_type": "stream",
     "name": "stdout",
     "text": [
      "training...\n",
      "epoch 0 , step 390 , loss: 1.6246: : 400it [00:05, 77.92it/s]\n",
      "epoch 1 , step 390 , loss: 1.6589: : 400it [00:04, 89.25it/s]\n",
      "epoch 2 , step 390 , loss: 1.6277: : 400it [00:04, 89.41it/s]\n",
      "epoch 3 , step 390 , loss: 1.6328: : 400it [00:04, 84.75it/s]\n",
      "epoch 4 , step 390 , loss: 1.6247: : 400it [00:04, 89.69it/s]\n",
      "epoch 5 , step 390 , loss: 1.6207: : 400it [00:04, 91.66it/s]\n",
      "epoch 6 , step 390 , loss: 1.6116: : 400it [00:04, 87.85it/s]\n",
      "epoch 7 , step 390 , loss: 1.6418: : 400it [00:04, 85.48it/s]\n",
      "epoch 8 , step 390 , loss: 1.6070: : 400it [00:04, 89.41it/s]\n",
      "epoch 9 , step 390 , loss: 1.6135: : 400it [00:04, 83.32it/s]\n"
     ]
    }
   ],
   "source": [
    "if knrmModel.training:\n",
    "    print(\"training...\")\n",
    "    loss_func = getLoss(knrmModel)\n",
    "    optimizer = optim.Adam(knrmModel.parameters(),lr=0.001)\n",
    "    knrmModel = run_train(knrmModel,loader_train,optimizer,loss_func,epochs=hparams['epochs'], interval=10)"
   ]
  },
  {
   "cell_type": "code",
   "execution_count": 9,
   "metadata": {},
   "outputs": [
    {
     "output_type": "stream",
     "name": "stderr",
     "text": [
      "0it [00:00, ?it/s]evaluating...\n",
      "3622it [00:13, 265.78it/s]\n",
      "evaluation results:{'group_auc': 0.5353, 'ndcg@5': 0.2523, 'ndcg@10': 0.3165, 'mean_mrr': 0.2409}\n"
     ]
    },
    {
     "output_type": "execute_result",
     "data": {
      "text/plain": [
       "{'group_auc': 0.5353, 'ndcg@5': 0.2523, 'ndcg@10': 0.3165, 'mean_mrr': 0.2409}"
      ]
     },
     "metadata": {},
     "execution_count": 9
    }
   ],
   "source": [
    "print(\"evaluating...\")\n",
    "knrmModel.eval()\n",
    "knrmModel.cdd_size = 1\n",
    "\n",
    "run_eval(knrmModel,loader_test)"
   ]
  },
  {
   "cell_type": "code",
   "execution_count": null,
   "metadata": {},
   "outputs": [],
   "source": []
  }
 ]
}