{
 "metadata": {
  "language_info": {
   "codemirror_mode": {
    "name": "ipython",
    "version": 3
   },
   "file_extension": ".py",
   "mimetype": "text/x-python",
   "name": "python",
   "nbconvert_exporter": "python",
   "pygments_lexer": "ipython3",
   "version": "3.7.9-final"
  },
  "orig_nbformat": 2,
  "kernelspec": {
   "name": "python37964bit4c03300bedca44f8b0013abe02048abc",
   "display_name": "Python 3.7.9 64-bit",
   "language": "python"
  }
 },
 "nbformat": 4,
 "nbformat_minor": 2,
 "cells": [
  {
   "cell_type": "code",
   "execution_count": 1,
   "metadata": {},
   "outputs": [],
   "source": [
    "import os\n",
    "import sys\n",
    "os.chdir('/home/peitian_zhang/Codes/NR')\n",
    "sys.path.append('/home/peitian_zhang/Codes/NR')\n",
    "\n",
    "import torch\n",
    "from utils.utils import run_eval,train,prepare\n",
    "from models.KNRM import KNRMModel\n",
    "\n",
    "hparams = {\n",
    "    'mode':'demo',\n",
    "    'name':'knrm',\n",
    "    'train_embedding': False,\n",
    "    'save_each_epoch':False,\n",
    "    'epochs':10,\n",
    "    'batch_size':50,\n",
    "    'title_size':20,\n",
    "    'his_size':50,\n",
    "    'npratio':4,\n",
    "    'embedding_dim':300,\n",
    "    'metrics':'group_auc,ndcg@5,ndcg@10,mean_mrr',\n",
    "    'device':'cuda:0',\n",
    "    'attrs': ['title'],\n",
    "}"
   ]
  },
  {
   "cell_type": "code",
   "execution_count": 2,
   "metadata": {},
   "outputs": [],
   "source": [
    "save_path = 'models/model_params/{}_{}_{}'.format(hparams['name'],hparams['mode'],hparams['epochs']) +'.model'\n",
    "device = torch.device(hparams['device']) if torch.cuda.is_available() else torch.device(\"cpu\")\n",
    "\n",
    "vocab, loader_train, loader_test, loader_validate = prepare(hparams, validate=True)\n",
    "knrmModel = KNRMModel(vocab=vocab,hparams=hparams).to(device)"
   ]
  },
  {
   "cell_type": "code",
   "execution_count": 3,
   "metadata": {},
   "outputs": [
    {
     "output_type": "stream",
     "name": "stdout",
     "text": [
      "training...\n",
      "epoch 0 , step 30 , loss: 3.5985: : 40it [00:01, 29.91it/s]\n",
      "epoch 1 , step 30 , loss: 1.8537: : 40it [00:00, 42.45it/s]\n",
      "epoch 2 , step 30 , loss: 1.7305: : 40it [00:00, 43.29it/s]\n",
      "epoch 3 , step 30 , loss: 1.7375: : 40it [00:00, 40.47it/s]\n",
      "epoch 4 , step 30 , loss: 1.7176: : 40it [00:00, 41.31it/s]\n",
      "epoch 5 , step 30 , loss: 1.7231: : 40it [00:00, 41.82it/s]\n",
      "epoch 6 , step 30 , loss: 1.7202: : 40it [00:00, 41.85it/s]\n",
      "epoch 7 , step 30 , loss: 1.7139: : 40it [00:00, 43.00it/s]\n",
      "epoch 8 , step 30 , loss: 1.7040: : 40it [00:00, 45.02it/s]\n",
      "epoch 9 , step 30 , loss: 1.6921: : 40it [00:00, 43.97it/s]\n",
      "0it [00:00, ?it/s]save success!\n",
      "testing...\n",
      "362it [00:07, 47.52it/s]\n",
      "0it [00:00, ?it/s]evaluation results:{'group_auc': 0.477, 'ndcg@5': 0.2108, 'ndcg@10': 0.283, 'mean_mrr': 0.2035}\n",
      "validating...\n",
      "1506it [00:28, 52.74it/s]\n",
      "evaluation results:{'group_auc': 0.48, 'ndcg@5': 0.2296, 'ndcg@10': 0.2883, 'mean_mrr': 0.2288}\n"
     ]
    }
   ],
   "source": [
    "train(knrmModel, hparams, loader_train, loader_test, save_path, loader_validate)"
   ]
  },
  {
   "cell_type": "code",
   "execution_count": null,
   "metadata": {},
   "outputs": [],
   "source": []
  }
 ]
}