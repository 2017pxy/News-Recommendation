{
 "metadata": {
  "language_info": {
   "codemirror_mode": {
    "name": "ipython",
    "version": 3
   },
   "file_extension": ".py",
   "mimetype": "text/x-python",
   "name": "python",
   "nbconvert_exporter": "python",
   "pygments_lexer": "ipython3",
   "version": "3.7.9-final"
  },
  "orig_nbformat": 2,
  "kernelspec": {
   "name": "python37964bit4c03300bedca44f8b0013abe02048abc",
   "display_name": "Python 3.7.9 64-bit",
   "language": "python"
  }
 },
 "nbformat": 4,
 "nbformat_minor": 2,
 "cells": [
  {
   "cell_type": "code",
   "execution_count": 3,
   "metadata": {},
   "outputs": [],
   "source": [
    "from torchtext.nn import MultiheadAttentionContainer,ScaledDotProduct,InProjContainer"
   ]
  },
  {
   "cell_type": "code",
   "execution_count": 4,
   "metadata": {},
   "outputs": [
    {
     "output_type": "execute_result",
     "data": {
      "text/plain": [
       "torchtext.nn.modules.multiheadattention.InProjContainer"
      ]
     },
     "metadata": {},
     "execution_count": 4
    }
   ],
   "source": [
    "in_proj_container = InProjContainer(torch.nn.Linear(embed_dim, embed_dim),\n",
    "                                        torch.nn.Linear(embed_dim, embed_dim),\n",
    "                                        torch.nn.Linear(embed_dim, embed_dim))\n",
    ">>> MHA = MultiheadAttentionContainer(num_heads,\n",
    "                                      in_proj_container,\n",
    "                                      ScaledDotProduct(),\n",
    "                                      torch.nn.Linear(embed_dim, embed_dim))\n",
    ">>> query = torch.rand((21, bsz, embed_dim))\n",
    ">>> key = value = torch.rand((16, bsz, embed_dim))\n",
    ">>> attn_output, attn_weights = MHA(query, key, value)\n",
    ">>> print(attn_output.shape)\n",
    ">>> torch.Size([21, 64, 10])"
   ]
  },
  {
   "cell_type": "code",
   "execution_count": 5,
   "metadata": {},
   "outputs": [
    {
     "output_type": "execute_result",
     "data": {
      "text/plain": [
       "128"
      ]
     },
     "metadata": {},
     "execution_count": 5
    }
   ],
   "source": [
    "16+23+21+23+23+22"
   ]
  },
  {
   "cell_type": "code",
   "execution_count": 6,
   "metadata": {},
   "outputs": [
    {
     "output_type": "execute_result",
     "data": {
      "text/plain": [
       "35"
      ]
     },
     "metadata": {},
     "execution_count": 6
    }
   ],
   "source": [
    "1+6+8+11+6+3"
   ]
  },
  {
   "cell_type": "code",
   "execution_count": null,
   "metadata": {},
   "outputs": [],
   "source": []
  }
 ]
}