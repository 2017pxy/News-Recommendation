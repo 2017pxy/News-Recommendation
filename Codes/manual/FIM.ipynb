{
 "metadata": {
  "language_info": {
   "codemirror_mode": {
    "name": "ipython",
    "version": 3
   },
   "file_extension": ".py",
   "mimetype": "text/x-python",
   "name": "python",
   "nbconvert_exporter": "python",
   "pygments_lexer": "ipython3",
   "version": "3.7.9-final"
  },
  "orig_nbformat": 2,
  "kernelspec": {
   "name": "python37964bit4c03300bedca44f8b0013abe02048abc",
   "display_name": "Python 3.7.9 64-bit",
   "language": "python"
  }
 },
 "nbformat": 4,
 "nbformat_minor": 2,
 "cells": [
  {
   "cell_type": "code",
   "execution_count": 6,
   "metadata": {},
   "outputs": [],
   "source": [
    "import os\n",
    "import sys\n",
    "os.chdir('../')\n",
    "sys.path.append('../')\n",
    "\n",
    "import torch\n",
    "from utils.utils import run_eval,train,prepare\n",
    "from models.FIM import FIMModel"
   ]
  },
  {
   "cell_type": "markdown",
   "metadata": {},
   "source": [
    "## setting up the *FIM* model\n",
    "\n",
    "### define paths and hyperparameters, load data\n",
    "\n",
    "all these hyper parameters are fixed according to the paper [\\[29\\] Fine-grained Interest Matching for Neural News Recommendation](https://www.aclweb.org/anthology/2020.acl-main.77.pdf)\n",
    "\n",
    "- *mode*: data to read (*demo*/*small*/*large*)\n",
    "\n",
    "- *batch_size*: size of each minibatch\n",
    "\n",
    "- *title_size*: max word capacity of title\n",
    "\n",
    "- *his_size*: max record capacity of click history\n",
    "\n",
    "- *npratio*: number of negtive sampling\n",
    "\n",
    "- *dilation_level*: levels of diferrent dilation rate\n",
    "\n",
    "- *kernel_size*: size of 1dCNN kernel\n",
    "\n",
    "- *filter_num*: number of kernels in 1D CNN, which is also embedding dimension of news/user\n",
    "\n",
    "- *embedding_dim*: word embedding dimension\n",
    "\n",
    "- *metrics*: metrics to be used in evaluating\n",
    "\n",
    "- *gpu*: gpu ID if available\n",
    "\n",
    "- *attrs*: the columns used to construct vocab\n",
    "\n",
    "### Note \n",
    "\n",
    "Although I list *dilation_level* and *kernel_size*, some properties related to both variables are fixed in the FIM model because I don't have time to well-design my model to make it adapt to these variables dynamically. "
   ]
  },
  {
   "cell_type": "code",
   "execution_count": 2,
   "metadata": {},
   "outputs": [],
   "source": [
    "hparams = {\n",
    "    'mode':'demo',\n",
    "    'name':'fim',\n",
    "    'batch_size':100,\n",
    "    'title_size':18,\n",
    "    'his_size':50,\n",
    "    'kernel_size':3,\n",
    "    'npratio':4,\n",
    "    'dropout_p':0.2,\n",
    "    'dilation_level':3,\n",
    "    'filter_num':150,\n",
    "    'embedding_dim':300,\n",
    "    'metrics':'group_auc,ndcg@5,ndcg@10,mean_mrr',\n",
    "    'device':'cuda:0',\n",
    "    'attrs': ['title','category','subcategory'],\n",
    "    'epochs':10\n",
    "}\n",
    "\n",
    "save_path = 'models/model_params/{}_{}_{}'.format(hparams['name'],hparams['mode'],hparams['epochs']) +'.model'\n",
    "device = torch.device(hparams['device']) if torch.cuda.is_available() else torch.device(\"cpu\")\n",
    "\n",
    "vocab, loader_train, loader_test, loader_validate = prepare(hparams, validate=True)"
   ]
  },
  {
   "cell_type": "code",
   "execution_count": 9,
   "metadata": {},
   "outputs": [],
   "source": [
    "fimModel = FIMModel(vocab=vocab,hparams=hparams).to(device)"
   ]
  },
  {
   "cell_type": "markdown",
   "metadata": {},
   "source": [
    "### train the model"
   ]
  },
  {
   "cell_type": "code",
   "execution_count": 10,
   "metadata": {},
   "outputs": [
    {
     "output_type": "stream",
     "name": "stdout",
     "text": [
      "training...\n",
      "epoch 0 , step 390 , loss: 1.5386: : 400it [00:22, 17.99it/s]\n",
      "epoch 1 , step 390 , loss: 1.4396: : 400it [00:20, 19.69it/s]\n",
      "epoch 2 , step 390 , loss: 1.3263: : 400it [00:20, 19.88it/s]\n",
      "epoch 3 , step 390 , loss: 1.1989: : 400it [00:20, 19.67it/s]\n",
      "epoch 4 , step 390 , loss: 1.0289: : 400it [00:20, 19.63it/s]\n",
      "epoch 5 , step 390 , loss: 0.8166: : 400it [00:20, 19.93it/s]\n",
      "epoch 6 , step 390 , loss: 0.5484: : 400it [00:20, 19.90it/s]\n",
      "epoch 7 , step 390 , loss: 0.3282: : 400it [00:20, 19.99it/s]\n",
      "epoch 8 , step 390 , loss: 0.2571: : 400it [00:20, 19.93it/s]\n",
      "epoch 9 , step 390 , loss: 0.1986: : 400it [00:20, 19.92it/s]\n"
     ]
    }
   ],
   "source": [
    "train(fimModel, hparams, loader_train, loader_test, save_path, loader_validate)"
   ]
  }
 ]
}