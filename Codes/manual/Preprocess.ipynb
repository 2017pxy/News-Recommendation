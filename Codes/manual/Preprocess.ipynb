{
 "metadata": {
  "language_info": {
   "codemirror_mode": {
    "name": "ipython",
    "version": 3
   },
   "file_extension": ".py",
   "mimetype": "text/x-python",
   "name": "python",
   "nbconvert_exporter": "python",
   "pygments_lexer": "ipython3",
   "version": "3.7.9-final"
  },
  "orig_nbformat": 2,
  "kernelspec": {
   "name": "python37964bitnnconda0d1e803757584bea8110f1ee664506cc",
   "display_name": "Python 3.7.9 64-bit ('nn': conda)"
  }
 },
 "nbformat": 4,
 "nbformat_minor": 2,
 "cells": [
  {
   "cell_type": "code",
   "execution_count": 6,
   "metadata": {},
   "outputs": [],
   "source": [
    "import os\n",
    "import sys\n",
    "os.chdir('/home/peitian_zhang/Codes/NR')\n",
    "sys.path.append('/home/peitian_zhang/Codes/NR')\n",
    "\n",
    "import torch\n",
    "import torch.nn as nn\n",
    "import torch.optim as optim\n",
    "from torchtext.vocab import FastText\n",
    "from torch.utils.data import DataLoader\n",
    "from utils.MIND import MIND_iter,MIND_map\n",
    "from utils.utils import constructBasicDict"
   ]
  },
  {
   "cell_type": "markdown",
   "metadata": {},
   "source": [
    "## show data"
   ]
  },
  {
   "cell_type": "code",
   "execution_count": 7,
   "metadata": {},
   "outputs": [],
   "source": [
    "hparams = {\n",
    "    'npratio':1,\n",
    "    'mode':'demo',\n",
    "    'batch_size':1,\n",
    "    'his_size':2,\n",
    "    'title_size':5,\n",
    "    'gpu':'cuda:0',\n",
    "    'attrs': ['title','category','subcategory']\n",
    "}\n",
    "\n",
    "# customize your path here\n",
    "news_file_train = '/home/peitian_zhang/Data/MIND/MIND'+hparams['mode']+'_train/news.tsv'\n",
    "news_file_test = '/home/peitian_zhang/Data/MIND/MIND'+hparams['mode']+'_dev/news.tsv'\n",
    "behavior_file_train = '/home/peitian_zhang/Data/MIND/MIND'+hparams['mode']+'_train/behaviors.tsv'\n",
    "behavior_file_test = '/home/peitian_zhang/Data/MIND/MIND'+hparams['mode']+'_dev/behaviors.tsv'\n",
    "save_path = '/home/peitian_zhang/Codes/NR/models/model_param/NPA_'+ hparams['mode'] +'.model'\n",
    "\n",
    "if not os.path.exists('data/dictionaries/vocab_{}_{}_{}.pkl'.format(hparams['mode'],'train','_'.join(hparams['attrs']))):\n",
    "    constructBasicDict(news_file_train,behavior_file_train,hparams['mode'],'train',hparams['attrs'])\n",
    "if not os.path.exists('data/dictionaries/vocab_{}_{}_{}.pkl'.format(hparams['mode'],'test','_'.join(hparams['attrs']))):\n",
    "    constructBasicDict(news_file_test,behavior_file_test,hparams['mode'],'test',hparams['attrs'])\n",
    "\n",
    "device = torch.device(hparams['gpu']) if torch.cuda.is_available() else torch.device(\"cpu\")\n",
    "\n",
    "vocab_train = dataset_train.vocab\n",
    "embedding = FastText('simple',cache='.vector_cache')\n",
    "vocab_train.load_vectors(embedding)\n",
    "\n",
    "vocab_test = dataset_test.vocab\n",
    "vocab_test.load_vectors(embedding)"
   ]
  },
  {
   "cell_type": "code",
   "execution_count": 8,
   "metadata": {},
   "outputs": [
    {
     "output_type": "execute_result",
     "data": {
      "text/plain": [
       "({'user_index': array([1]),\n",
       "  'clicked_title': array([[3275,   10, 3445, 4246, 3208],\n",
       "         [ 325,  690,   28,  512, 1042]]),\n",
       "  'clicked_category': array([[66],\n",
       "         [ 4]]),\n",
       "  'clicked_subcategory': array([[208],\n",
       "         [ 42]]),\n",
       "  'candidate_title': array([[1540, 2502,    6,  155,  185],\n",
       "         [2428, 1145,   96,  302,  838]]),\n",
       "  'candidate_category': array([[4],\n",
       "         [3]]),\n",
       "  'candidate_subcategory': array([[15],\n",
       "         [13]]),\n",
       "  'labels': array([1, 0])},\n",
       " {'impression_index': 0,\n",
       "  'user_index': array([1]),\n",
       "  'clicked_title': array([[4357,   10, 3816, 4712, 2547],\n",
       "         [ 689,  650,  609,   31, 1099]]),\n",
       "  'clicked_category': array([[61],\n",
       "         [ 3]]),\n",
       "  'clicked_subcategory': array([[200],\n",
       "         [ 13]]),\n",
       "  'candidate_title': array([[ 259, 6983,    5, 1321, 1349]]),\n",
       "  'candidate_category': array([[4]]),\n",
       "  'candidate_subcategory': array([[15]]),\n",
       "  'labels': array([0])})"
      ]
     },
     "metadata": {},
     "execution_count": 8
    }
   ],
   "source": [
    "# map style dataloader to return one log for training\n",
    "dataset_train = MIND_map(hparams=hparams,mode='train',news_file=news_file_train,behaviors_file=behavior_file_train)\n",
    "# iter style dataloader to return one candidate for training\n",
    "dataset_test = MIND_iter(hparams=hparams,mode='test',news_file=news_file_test,behaviors_file=behavior_file_test)\n",
    "\n",
    "dataset_train[0], next(iter(dataset_test))"
   ]
  },
  {
   "cell_type": "code",
   "execution_count": 14,
   "metadata": {},
   "outputs": [
    {
     "output_type": "execute_result",
     "data": {
      "text/plain": [
       "({'user_index': tensor([[1558]]),\n",
       "  'clicked_title': tensor([[[29361,  2736,    50,   206,   468],\n",
       "           [ 1406,  3240,   737,    83,  3442]]]),\n",
       "  'clicked_category': tensor([[[66],\n",
       "           [24]]]),\n",
       "  'clicked_subcategory': tensor([[[220],\n",
       "           [488]]]),\n",
       "  'candidate_title': tensor([[[7725, 1350,  796, 1179,    6],\n",
       "           [ 151,   12,    9,   12, 2227]]]),\n",
       "  'candidate_category': tensor([[[24],\n",
       "           [ 3]]]),\n",
       "  'candidate_subcategory': tensor([[[488],\n",
       "           [ 13]]]),\n",
       "  'labels': tensor([[1, 0]])},\n",
       " {'impression_index': tensor([0]),\n",
       "  'user_index': tensor([[1]]),\n",
       "  'clicked_title': tensor([[[4357,   10, 3816, 4712, 2547],\n",
       "           [ 689,  650,  609,   31, 1099]]]),\n",
       "  'clicked_category': tensor([[[61],\n",
       "           [ 3]]]),\n",
       "  'clicked_subcategory': tensor([[[200],\n",
       "           [ 13]]]),\n",
       "  'candidate_title': tensor([[[ 259, 6983,    5, 1321, 1349]]]),\n",
       "  'candidate_category': tensor([[[4]]]),\n",
       "  'candidate_subcategory': tensor([[[15]]]),\n",
       "  'labels': tensor([[0]])})"
      ]
     },
     "metadata": {},
     "execution_count": 14
    }
   ],
   "source": [
    "loader_train = DataLoader(dataset_train,batch_size=hparams['batch_size'],shuffle=True,pin_memory=True,num_workers=3,drop_last=True)\n",
    "loader_test = DataLoader(dataset_test,batch_size=hparams['batch_size'],pin_memory=True,num_workers=0,drop_last=True)\n",
    "a = next(iter(loader_train))\n",
    "b = next(iter(loader_test))\n",
    "a,b"
   ]
  },
  {
   "cell_type": "markdown",
   "metadata": {},
   "source": [
    "### tailor Data to demo size"
   ]
  },
  {
   "cell_type": "code",
   "execution_count": null,
   "metadata": {},
   "outputs": [],
   "source": [
    "tailorData('D:/Data/NR_data/MINDsmall_dev/behaviors.tsv',300)\n",
    "tailorData('D:/Data/NR_data/MINDsmall_train/behaviors.tsv',300)"
   ]
  },
  {
   "cell_type": "markdown",
   "metadata": {},
   "source": [
    "### Analyze MIND Datasets\n",
    "- average title length\n",
    "- average abstract length\n",
    "- average history length\n",
    "- average impression capacity\n",
    "- count of history exceeding 50\n",
    "- count of multi-clicked impressions "
   ]
  },
  {
   "cell_type": "code",
   "execution_count": 10,
   "metadata": {},
   "outputs": [],
   "source": [
    "avg_title_length = 0\n",
    "avg_abstract_length = 0\n",
    "avg_his_length = 0\n",
    "avg_imp_length = 0\n",
    "cnt_his_lg_50 = 0\n",
    "cnt_imp_multi = 0\n",
    "\n",
    "with open(news_file_train,\"r\",encoding='utf-8') as rd:\n",
    "    count = 0\n",
    "    for idx in rd:\n",
    "        nid, vert, subvert, title, ab, url, _, _ = idx.strip(\"\\n\").split('\\t')\n",
    "        avg_title_length += len(title.split(' '))\n",
    "        avg_abstract_length += len(ab.split(' '))\n",
    "        count += 1\n",
    "avg_title_length = avg_title_length/count\n",
    "avg_abstract_length = avg_abstract_length/count\n",
    "\n",
    "with open(behavior_file_train, \"r\", encoding='utf-8') as rd:\n",
    "    count = 0\n",
    "    for idx in rd:\n",
    "        uid, time, history, impr = idx.strip(\"\\n\").split('\\t')[-4:]\n",
    "        his = history.split(' ')\n",
    "        imp = impr.split(' ')\n",
    "        if len(his) > 50:\n",
    "            cnt_his_lg_50 += 1\n",
    "        if len(imp) > 50:\n",
    "            cnt_imp_multi += 1\n",
    "        avg_his_length += len(his)\n",
    "        avg_imp_length += len(imp)\n",
    "        count += 1\n",
    "avg_his_length = avg_his_length/count\n",
    "avg_imp_length = avg_imp_length/count"
   ]
  },
  {
   "cell_type": "code",
   "execution_count": 11,
   "metadata": {},
   "outputs": [
    {
     "output_type": "stream",
     "name": "stdout",
     "text": [
      "avg_title_length:10.67731736385395\n avg_abstract_length:36.4448570331045\n avg_his_length:32.99787212887438\n avg_impr_length:37.40116394684935\n cnt_his_lg_50:447829\n cnt_imp_multi:567571\n"
     ]
    }
   ],
   "source": [
    "print(\"avg_title_length:{}\\n avg_abstract_length:{}\\n avg_his_length:{}\\n avg_impr_length:{}\\n cnt_his_lg_50:{}\\n cnt_imp_multi:{}\".format(avg_title_length,avg_abstract_length,avg_his_length,avg_imp_length,cnt_his_lg_50,cnt_imp_multi))"
   ]
  },
  {
   "cell_type": "code",
   "execution_count": null,
   "metadata": {},
   "outputs": [],
   "source": []
  }
 ]
}