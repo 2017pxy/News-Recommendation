{
 "metadata": {
  "language_info": {
   "codemirror_mode": {
    "name": "ipython",
    "version": 3
   },
   "file_extension": ".py",
   "mimetype": "text/x-python",
   "name": "python",
   "nbconvert_exporter": "python",
   "pygments_lexer": "ipython3",
   "version": "3.7.9-final"
  },
  "orig_nbformat": 2,
  "kernelspec": {
   "name": "python37964bit4c03300bedca44f8b0013abe02048abc",
   "display_name": "Python 3.7.9 64-bit"
  }
 },
 "nbformat": 4,
 "nbformat_minor": 2,
 "cells": [
  {
   "cell_type": "code",
   "execution_count": 4,
   "metadata": {},
   "outputs": [],
   "source": [
    "import os\n",
    "import sys\n",
    "os.chdir('/home/peitian_zhang/Codes/NR')\n",
    "sys.path.append('/home/peitian_zhang/Codes/NR')\n",
    "\n",
    "import torch\n",
    "import torch.nn as nn\n",
    "import torch.optim as optim\n",
    "from torchtext.vocab import GloVe\n",
    "from torch.utils.data import DataLoader\n",
    "from utils.MIND import MIND_iter,MIND_map\n",
    "from utils.utils import constructBasicDict"
   ]
  },
  {
   "cell_type": "markdown",
   "metadata": {},
   "source": [
    "## show data"
   ]
  },
  {
   "cell_type": "code",
   "execution_count": 5,
   "metadata": {},
   "outputs": [
    {
     "output_type": "stream",
     "name": "stderr",
     "text": [
      "104151lines [00:12, 8545.35lines/s] \n"
     ]
    }
   ],
   "source": [
    "hparams = {\n",
    "    'npratio':4,\n",
    "    'mode':'large',\n",
    "    'batch_size':100,\n",
    "    'his_size':20,\n",
    "    'title_size':15,\n",
    "    'gpu':'cuda:0',\n",
    "    'attrs': ['title','category','subcategory']\n",
    "}\n",
    "\n",
    "# customize your path here\n",
    "news_file_train = '/home/peitian_zhang/Data/MIND/MIND'+hparams['mode']+'_train/news.tsv'\n",
    "news_file_test = '/home/peitian_zhang/Data/MIND/MIND'+hparams['mode']+'_dev/news.tsv'\n",
    "news_file_pair = (news_file_train,news_file_test)\n",
    "\n",
    "behavior_file_train = '/home/peitian_zhang/Data/MIND/MIND'+hparams['mode']+'_train/behaviors.tsv'\n",
    "behavior_file_test = '/home/peitian_zhang/Data/MIND/MIND'+hparams['mode']+'_dev/behaviors.tsv'\n",
    "behavior_file_pair = (behavior_file_train,behavior_file_test)\n",
    "\n",
    "save_path = '/home/peitian_zhang/Codes/NR/models/model_params/NPA_'+ hparams['mode'] +'.model'\n",
    "\n",
    "if not os.path.exists('data/dictionaries/vocab_{}_{}.pkl'.format(hparams['mode'],'_'.join(hparams['attrs']))):\n",
    "    constructBasicDict(news_file_pair,behavior_file_pair,hparams['mode'],hparams['attrs'])\n",
    "\n",
    "device = torch.device(hparams['gpu']) if torch.cuda.is_available() else torch.device(\"cpu\")\n",
    "\n",
    "dataset_train = MIND_map(hparams=hparams,news_file=news_file_train,behaviors_file=behavior_file_train)\n",
    "\n",
    "dataset_test = MIND_iter(hparams=hparams,news_file=news_file_test,behaviors_file=behavior_file_test)\n",
    "\n",
    "vocab = dataset_train.vocab\n",
    "embedding = GloVe(dim=300,cache='.vector_cache')\n",
    "vocab.load_vectors(embedding)\n",
    "\n",
    "loader_train = DataLoader(dataset_train,batch_size=hparams['batch_size'],shuffle=True,pin_memory=True,num_workers=3,drop_last=True)\n",
    "loader_test = DataLoader(dataset_test,batch_size=hparams['batch_size'],pin_memory=True,num_workers=0,drop_last=True)"
   ]
  },
  {
   "cell_type": "code",
   "execution_count": 6,
   "metadata": {},
   "outputs": [
    {
     "output_type": "error",
     "ename": "AttributeError",
     "evalue": "'MIND_map' object has no attribute 'uid2idx'",
     "traceback": [
      "\u001b[0;31m---------------------------------------------------------------------------\u001b[0m",
      "\u001b[0;31mAttributeError\u001b[0m                            Traceback (most recent call last)",
      "\u001b[0;32m<ipython-input-6-67ea0ef955c0>\u001b[0m in \u001b[0;36m<module>\u001b[0;34m\u001b[0m\n\u001b[0;32m----> 1\u001b[0;31m \u001b[0mdataset_train\u001b[0m\u001b[0;34m.\u001b[0m\u001b[0muid2idx\u001b[0m\u001b[0;34m\u001b[0m\u001b[0;34m\u001b[0m\u001b[0m\n\u001b[0m",
      "\u001b[0;31mAttributeError\u001b[0m: 'MIND_map' object has no attribute 'uid2idx'"
     ]
    }
   ],
   "source": [
    "dataset_train.uid2idx"
   ]
  },
  {
   "cell_type": "code",
   "execution_count": null,
   "metadata": {},
   "outputs": [],
   "source": [
    "a = next(iter(loader_train))\n",
    "b = next(iter(loader_test))\n",
    "a,b"
   ]
  },
  {
   "cell_type": "markdown",
   "metadata": {},
   "source": [
    "### tailor Data to demo size"
   ]
  },
  {
   "cell_type": "code",
   "execution_count": null,
   "metadata": {},
   "outputs": [],
   "source": [
    "tailorData('D:/Data/NR_data/MINDsmall_dev/behaviors.tsv',300)\n",
    "tailorData('D:/Data/NR_data/MINDsmall_train/behaviors.tsv',300)"
   ]
  },
  {
   "cell_type": "markdown",
   "metadata": {},
   "source": [
    "### Analyze MIND Datasets\n",
    "- average title length\n",
    "- average abstract length\n",
    "- average history length\n",
    "- average impression capacity\n",
    "- count of history exceeding 50\n",
    "- count of multi-clicked impressions "
   ]
  },
  {
   "cell_type": "code",
   "execution_count": 3,
   "metadata": {},
   "outputs": [],
   "source": [
    "avg_title_length = 0\n",
    "avg_abstract_length = 0\n",
    "avg_his_length = 0\n",
    "avg_imp_length = 0\n",
    "cnt_his_lg_50 = 0\n",
    "cnt_his_eq_0 = 0\n",
    "cnt_imp_multi = 0\n",
    "\n",
    "with open(news_file_train,\"r\",encoding='utf-8') as rd:\n",
    "    count = 0\n",
    "    for idx in rd:\n",
    "        nid, vert, subvert, title, ab, url, _, _ = idx.strip(\"\\n\").split('\\t')\n",
    "        avg_title_length += len(title.split(' '))\n",
    "        avg_abstract_length += len(ab.split(' '))\n",
    "        count += 1\n",
    "avg_title_length = avg_title_length/count\n",
    "avg_abstract_length = avg_abstract_length/count\n",
    "\n",
    "with open(behavior_file_train, \"r\", encoding='utf-8') as rd:\n",
    "    count = 0\n",
    "    for idx in rd:\n",
    "        uid, time, history, impr = idx.strip(\"\\n\").split('\\t')[-4:]\n",
    "        his = history.split(' ')\n",
    "        imp = impr.split(' ')\n",
    "        if len(his) > 50:\n",
    "            cnt_his_lg_50 += 1\n",
    "        if len(imp) > 50:\n",
    "            cnt_imp_multi += 1\n",
    "        if not his[0]:\n",
    "            cnt_his_eq_0 += 1\n",
    "        avg_his_length += len(his)\n",
    "        avg_imp_length += len(imp)\n",
    "        count += 1\n",
    "avg_his_length = avg_his_length/count\n",
    "avg_imp_length = avg_imp_length/count"
   ]
  },
  {
   "cell_type": "code",
   "execution_count": 4,
   "metadata": {},
   "outputs": [
    {
     "output_type": "stream",
     "name": "stdout",
     "text": [
      "avg_title_length:10.76900276900277\n avg_abstract_length:34.48806598806599\n avg_his_length:32.5606154238206\n avg_impr_length:37.22768770107986\n cnt_his_lg_50:30748\n cnt_his_eq_0:3238\n cnt_imp_multi:39524\n"
     ]
    }
   ],
   "source": [
    "print(\"avg_title_length:{}\\n avg_abstract_length:{}\\n avg_his_length:{}\\n avg_impr_length:{}\\n cnt_his_lg_50:{}\\n cnt_his_eq_0:{}\\n cnt_imp_multi:{}\".format(avg_title_length,avg_abstract_length,avg_his_length,avg_imp_length,cnt_his_lg_50,cnt_his_eq_0,cnt_imp_multi))"
   ]
  },
  {
   "cell_type": "code",
   "execution_count": null,
   "metadata": {},
   "outputs": [],
   "source": []
  }
 ]
}