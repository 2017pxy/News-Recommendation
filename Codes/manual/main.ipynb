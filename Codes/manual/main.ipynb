{
 "metadata": {
  "language_info": {
   "codemirror_mode": {
    "name": "ipython",
    "version": 3
   },
   "file_extension": ".py",
   "mimetype": "text/x-python",
   "name": "python",
   "nbconvert_exporter": "python",
   "pygments_lexer": "ipython3",
   "version": "3.7.9-final"
  },
  "orig_nbformat": 2,
  "kernelspec": {
   "name": "python37964bit4c03300bedca44f8b0013abe02048abc",
   "display_name": "Python 3.7.9 64-bit",
   "language": "python"
  }
 },
 "nbformat": 4,
 "nbformat_minor": 2,
 "cells": [
  {
   "cell_type": "code",
   "execution_count": null,
   "metadata": {},
   "outputs": [],
   "source": [
    "import os\n",
    "import sys\n",
    "os.chdir('/home/peitian_zhang/Codes/NR')\n",
    "sys.path.append('/home/peitian_zhang/Codes/NR')"
   ]
  },
  {
   "cell_type": "code",
   "execution_count": null,
   "metadata": {},
   "outputs": [],
   "source": [
    "import torch\n",
    "import torch.nn.functional as F\n",
    "a = torch.tensor([[[1,2,3,4],[2,2,3,4],[4,2,3,4]],[[3,2,3,4],[0,0,0,0],[0,0,0,0]]]).float()\n",
    "b = torch.tensor([[[4,2,3,4],[5,2,3,4],[0,0,0,0]],[[6,2,3,4],[7,2,3,4],[8,2,3,4]]]).float().permute(0,2,1)\n",
    "\n",
    "sim = torch.bmm(F.normalize(a),F.normalize(b)).view(2, 3, 3, 1)\n",
    "mu = torch.tensor((1,2,3,6)).float().view(1,1,1,4)\n",
    "sigma = torch.tensor((4,3,2,1)).float().view(1,1,1,4)\n",
    "\n",
    "mask_q = torch.tensor([[1,1,1],[1,0,0]]).float().view(2,3,1)\n",
    "mask_d = torch.tensor([[1,1,0],[1,1,1]]).float().view(2,1,3,1)\n",
    "r = (sim - mu)\n",
    "k = r/sigma # 2,3,3,4\n",
    "k_plus = k * mask_d\n",
    "u = torch.sum(k_plus,dim=2)\n",
    "u_plus = u*mask_q\n",
    "\n",
    "result = torch.sum(u_plus,dim=-2)\n",
    "# u, mask_d\n",
    "sim, k, k_plus, u, u_plus, result"
   ]
  },
  {
   "cell_type": "code",
   "execution_count": null,
   "metadata": {},
   "outputs": [],
   "source": [
    "import torch.nn.functional as F\r\n",
    "import torch\r\n",
    "import math\r\n",
    "F.normalize(torch.tensor([[1,2,3,4]]).float(), p=2)"
   ]
  },
  {
   "cell_type": "code",
   "execution_count": null,
   "metadata": {},
   "outputs": [],
   "source": [
    "import torch\n",
    "a = torch.nn.Softmax(dim=-1)\n",
    "b = torch.rand((2,3,3))\n",
    "a(b)\n",
    "torch.sum(a(b),dim=-1)"
   ]
  },
  {
   "cell_type": "code",
   "execution_count": null,
   "metadata": {},
   "outputs": [],
   "source": [
    "a = [torch.rand((1,2)) for _ in range(3)]\n",
    "a = torch.rand((1,2))\n",
    "a  = torch.rand((1,2,3))\n",
    "a,a.transpose(-1,0)"
   ]
  },
  {
   "cell_type": "code",
   "execution_count": null,
   "metadata": {},
   "outputs": [],
   "source": [
    "b, torch.sum(torch.log(b),dim=1)\n"
   ]
  },
  {
   "cell_type": "code",
   "execution_count": null,
   "metadata": {},
   "outputs": [],
   "source": [
    "from torch.utils.tensorboard import SummaryWriter\n",
    "writer = SummaryWriter('data/test')"
   ]
  },
  {
   "cell_type": "code",
   "execution_count": null,
   "metadata": {},
   "outputs": [],
   "source": [
    "import torch\n",
    "writer.add_embedding(torch.rand((5,5)),meta)"
   ]
  },
  {
   "cell_type": "code",
   "execution_count": 15,
   "metadata": {},
   "outputs": [
    {
     "output_type": "execute_result",
     "data": {
      "text/plain": [
       "tensor([[[[0, 0, 3, 1],\n",
       "          [0, 0, 3, 1],\n",
       "          [0, 0, 3, 1]],\n",
       "\n",
       "         [[0, 0, 3, 1],\n",
       "          [0, 0, 3, 1],\n",
       "          [0, 0, 3, 1]]],\n",
       "\n",
       "\n",
       "        [[[0, 0, 3, 1],\n",
       "          [0, 0, 3, 1],\n",
       "          [0, 0, 3, 1]],\n",
       "\n",
       "         [[0, 0, 3, 1],\n",
       "          [0, 0, 3, 1],\n",
       "          [0, 0, 3, 1]]]])"
      ]
     },
     "metadata": {},
     "execution_count": 15
    }
   ],
   "source": [
    "import torch\n",
    "r = torch.zeros((2,2,3,4)).long()\n",
    "a = torch.rand((2,2,3))\n",
    "b = torch.ones((2,3,1))\n",
    "r[:,:,:,:3] = a.unsqueeze(dim=2)\n",
    "r[:,:,:,3:] = b.unsqueeze(dim=1)\n",
    "r[:,:,:,2] = 3\n",
    "r"
   ]
  },
  {
   "cell_type": "code",
   "execution_count": 16,
   "metadata": {},
   "outputs": [
    {
     "output_type": "execute_result",
     "data": {
      "text/plain": [
       "tensor([[[0.3344, 0.4434, 0.3447]],\n",
       "\n",
       "        [[0.3344, 0.4434, 0.3447]],\n",
       "\n",
       "        [[0.3344, 0.4434, 0.3447]]])"
      ]
     },
     "metadata": {},
     "execution_count": 16
    }
   ],
   "source": [
    "a = torch.rand((1,3))\n",
    "a.expand((3,1,3))"
   ]
  },
  {
   "cell_type": "code",
   "execution_count": null,
   "metadata": {},
   "outputs": [],
   "source": []
  }
 ]
}