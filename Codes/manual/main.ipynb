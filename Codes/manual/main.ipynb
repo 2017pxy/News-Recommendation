{
 "metadata": {
  "language_info": {
   "codemirror_mode": {
    "name": "ipython",
    "version": 3
   },
   "file_extension": ".py",
   "mimetype": "text/x-python",
   "name": "python",
   "nbconvert_exporter": "python",
   "pygments_lexer": "ipython3",
   "version": "3.7.9-final"
  },
  "orig_nbformat": 2,
  "kernelspec": {
   "name": "python37964bit4c03300bedca44f8b0013abe02048abc",
   "display_name": "Python 3.7.9 64-bit",
   "language": "python"
  }
 },
 "nbformat": 4,
 "nbformat_minor": 2,
 "cells": [
  {
   "cell_type": "code",
   "execution_count": null,
   "metadata": {},
   "outputs": [],
   "source": [
    "import os\n",
    "import sys\n",
    "os.chdir('/home/peitian_zhang/Codes/NR')\n",
    "sys.path.append('/home/peitian_zhang/Codes/NR')"
   ]
  },
  {
   "cell_type": "code",
   "execution_count": 14,
   "metadata": {},
   "outputs": [
    {
     "output_type": "execute_result",
     "data": {
      "text/plain": [
       "(tensor([[[[0.9047],\n",
       "           [0.8556],\n",
       "           [0.0000]],\n",
       " \n",
       "          [[1.0348],\n",
       "           [1.0041],\n",
       "           [0.0000]],\n",
       " \n",
       "          [[1.2951],\n",
       "           [1.3010],\n",
       "           [0.0000]]],\n",
       " \n",
       " \n",
       "         [[[1.8605],\n",
       "           [1.8116],\n",
       "           [1.7628]],\n",
       " \n",
       "          [[0.0000],\n",
       "           [0.0000],\n",
       "           [0.0000]],\n",
       " \n",
       "          [[0.0000],\n",
       "           [0.0000],\n",
       "           [0.0000]]]]),\n",
       " tensor([[[[-2.3821e-02, -3.6509e-01, -1.0476e+00, -5.0953e+00],\n",
       "           [-3.6104e-02, -3.8147e-01, -1.0722e+00, -5.1444e+00],\n",
       "           [-2.5000e-01, -6.6667e-01, -1.5000e+00, -6.0000e+00]],\n",
       " \n",
       "          [[ 8.7092e-03, -3.2172e-01, -9.8258e-01, -4.9652e+00],\n",
       "           [ 1.0159e-03, -3.3198e-01, -9.9797e-01, -4.9959e+00],\n",
       "           [-2.5000e-01, -6.6667e-01, -1.5000e+00, -6.0000e+00]],\n",
       " \n",
       "          [[ 7.3769e-02, -2.3497e-01, -8.5246e-01, -4.7049e+00],\n",
       "           [ 7.5255e-02, -2.3299e-01, -8.4949e-01, -4.6990e+00],\n",
       "           [-2.5000e-01, -6.6667e-01, -1.5000e+00, -6.0000e+00]]],\n",
       " \n",
       " \n",
       "         [[[ 2.1513e-01, -4.6493e-02, -5.6974e-01, -4.1395e+00],\n",
       "           [ 2.0291e-01, -6.2786e-02, -5.9418e-01, -4.1884e+00],\n",
       "           [ 1.9070e-01, -7.9061e-02, -6.1859e-01, -4.2372e+00]],\n",
       " \n",
       "          [[-2.5000e-01, -6.6667e-01, -1.5000e+00, -6.0000e+00],\n",
       "           [-2.5000e-01, -6.6667e-01, -1.5000e+00, -6.0000e+00],\n",
       "           [-2.5000e-01, -6.6667e-01, -1.5000e+00, -6.0000e+00]],\n",
       " \n",
       "          [[-2.5000e-01, -6.6667e-01, -1.5000e+00, -6.0000e+00],\n",
       "           [-2.5000e-01, -6.6667e-01, -1.5000e+00, -6.0000e+00],\n",
       "           [-2.5000e-01, -6.6667e-01, -1.5000e+00, -6.0000e+00]]]]),\n",
       " tensor([[[[-2.3821e-02, -3.6509e-01, -1.0476e+00, -5.0953e+00],\n",
       "           [-3.6104e-02, -3.8147e-01, -1.0722e+00, -5.1444e+00],\n",
       "           [-0.0000e+00, -0.0000e+00, -0.0000e+00, -0.0000e+00]],\n",
       " \n",
       "          [[ 8.7092e-03, -3.2172e-01, -9.8258e-01, -4.9652e+00],\n",
       "           [ 1.0159e-03, -3.3198e-01, -9.9797e-01, -4.9959e+00],\n",
       "           [-0.0000e+00, -0.0000e+00, -0.0000e+00, -0.0000e+00]],\n",
       " \n",
       "          [[ 7.3769e-02, -2.3497e-01, -8.5246e-01, -4.7049e+00],\n",
       "           [ 7.5255e-02, -2.3299e-01, -8.4949e-01, -4.6990e+00],\n",
       "           [-0.0000e+00, -0.0000e+00, -0.0000e+00, -0.0000e+00]]],\n",
       " \n",
       " \n",
       "         [[[ 2.1513e-01, -4.6493e-02, -5.6974e-01, -4.1395e+00],\n",
       "           [ 2.0291e-01, -6.2786e-02, -5.9418e-01, -4.1884e+00],\n",
       "           [ 1.9070e-01, -7.9061e-02, -6.1859e-01, -4.2372e+00]],\n",
       " \n",
       "          [[-2.5000e-01, -6.6667e-01, -1.5000e+00, -6.0000e+00],\n",
       "           [-2.5000e-01, -6.6667e-01, -1.5000e+00, -6.0000e+00],\n",
       "           [-2.5000e-01, -6.6667e-01, -1.5000e+00, -6.0000e+00]],\n",
       " \n",
       "          [[-2.5000e-01, -6.6667e-01, -1.5000e+00, -6.0000e+00],\n",
       "           [-2.5000e-01, -6.6667e-01, -1.5000e+00, -6.0000e+00],\n",
       "           [-2.5000e-01, -6.6667e-01, -1.5000e+00, -6.0000e+00]]]]),\n",
       " tensor([[[-5.9925e-02, -7.4657e-01, -2.1198e+00, -1.0240e+01],\n",
       "          [ 9.7251e-03, -6.5370e-01, -1.9805e+00, -9.9611e+00],\n",
       "          [ 1.4902e-01, -4.6797e-01, -1.7020e+00, -9.4039e+00]],\n",
       " \n",
       "         [[ 6.0875e-01, -1.8834e-01, -1.7825e+00, -1.2565e+01],\n",
       "          [-7.5000e-01, -2.0000e+00, -4.5000e+00, -1.8000e+01],\n",
       "          [-7.5000e-01, -2.0000e+00, -4.5000e+00, -1.8000e+01]]]),\n",
       " tensor([[[-5.9925e-02, -7.4657e-01, -2.1198e+00, -1.0240e+01],\n",
       "          [ 9.7251e-03, -6.5370e-01, -1.9805e+00, -9.9611e+00],\n",
       "          [ 1.4902e-01, -4.6797e-01, -1.7020e+00, -9.4039e+00]],\n",
       " \n",
       "         [[ 6.0875e-01, -1.8834e-01, -1.7825e+00, -1.2565e+01],\n",
       "          [-0.0000e+00, -0.0000e+00, -0.0000e+00, -0.0000e+00],\n",
       "          [-0.0000e+00, -0.0000e+00, -0.0000e+00, -0.0000e+00]]]),\n",
       " tensor([[  0.0988,  -1.8682,  -5.8024, -29.6047],\n",
       "         [  0.6087,  -0.1883,  -1.7825, -12.5650]]))"
      ]
     },
     "metadata": {},
     "execution_count": 14
    }
   ],
   "source": [
    "import torch\n",
    "import torch.nn.functional as F\n",
    "a = torch.tensor([[[1,2,3,4],[2,2,3,4],[4,2,3,4]],[[3,2,3,4],[0,0,0,0],[0,0,0,0]]]).float()\n",
    "b = torch.tensor([[[4,2,3,4],[5,2,3,4],[0,0,0,0]],[[6,2,3,4],[7,2,3,4],[8,2,3,4]]]).float().permute(0,2,1)\n",
    "\n",
    "sim = torch.bmm(F.normalize(a),F.normalize(b)).view(2, 3, 3, 1)\n",
    "mu = torch.tensor((1,2,3,6)).float().view(1,1,1,4)\n",
    "sigma = torch.tensor((4,3,2,1)).float().view(1,1,1,4)\n",
    "\n",
    "mask_q = torch.tensor([[1,1,1],[1,0,0]]).float().view(2,3,1)\n",
    "mask_d = torch.tensor([[1,1,0],[1,1,1]]).float().view(2,1,3,1)\n",
    "r = (sim - mu)\n",
    "k = r/sigma # 2,3,3,4\n",
    "k_plus = k * mask_d\n",
    "u = torch.sum(k_plus,dim=2)\n",
    "u_plus = u*mask_q\n",
    "\n",
    "result = torch.sum(u_plus,dim=-2)\n",
    "# u, mask_d\n",
    "sim, k, k_plus, u, u_plus, result"
   ]
  },
  {
   "cell_type": "code",
   "execution_count": 10,
   "metadata": {},
   "outputs": [
    {
     "output_type": "execute_result",
     "data": {
      "text/plain": [
       "(tensor([[0.1826, 0.3651, 0.5477, 0.7303]]), 0.7302967433402214)"
      ]
     },
     "metadata": {},
     "execution_count": 10
    }
   ],
   "source": [
    "import torch.nn.functional as F\r\n",
    "import torch\r\n",
    "import math\r\n",
    "F.normalize(torch.tensor([[1,2,3,4]]).float(), p=2)"
   ]
  },
  {
   "cell_type": "code",
   "execution_count": null,
   "metadata": {},
   "outputs": [],
   "source": [
    "import torch\n",
    "a = torch.nn.Softmax(dim=-1)\n",
    "b = torch.rand((2,3,3))\n",
    "a(b)\n",
    "torch.sum(a(b),dim=-1)"
   ]
  },
  {
   "cell_type": "code",
   "execution_count": null,
   "metadata": {},
   "outputs": [],
   "source": [
    "a = [torch.rand((1,2)) for _ in range(3)]\n",
    "a = torch.rand((1,2))\n",
    "a  = torch.rand((1,2,3))\n",
    "a,a.transpose(-1,0)"
   ]
  },
  {
   "cell_type": "code",
   "execution_count": null,
   "metadata": {},
   "outputs": [],
   "source": [
    "b, torch.sum(torch.log(b),dim=1)\n"
   ]
  },
  {
   "cell_type": "code",
   "execution_count": null,
   "metadata": {},
   "outputs": [],
   "source": [
    "from torch.utils.tensorboard import SummaryWriter\n",
    "writer = SummaryWriter('data/test')"
   ]
  },
  {
   "cell_type": "code",
   "execution_count": null,
   "metadata": {},
   "outputs": [],
   "source": [
    "import torch\n",
    "writer.add_embedding(torch.rand((5,5)),meta)"
   ]
  },
  {
   "cell_type": "code",
   "execution_count": 3,
   "metadata": {},
   "outputs": [
    {
     "output_type": "execute_result",
     "data": {
      "text/plain": [
       "tensor([[0.9926]])"
      ]
     },
     "metadata": {},
     "execution_count": 3
    }
   ],
   "source": [
    "import torch\n",
    "import torch.nn.functional as F\n",
    "\n",
    "a = torch.tensor([[1,2,3]]).float()\n",
    "b = torch.tensor([[2,3,4]]).float()\n",
    "c = F.normalize(a)\n",
    "d = F.normalize(b)\n",
    "torch.matmul(c,d.permute(1,0))"
   ]
  },
  {
   "cell_type": "code",
   "execution_count": null,
   "metadata": {},
   "outputs": [],
   "source": []
  }
 ]
}